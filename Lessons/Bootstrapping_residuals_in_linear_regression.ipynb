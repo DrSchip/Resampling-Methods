{
 "cells": [
  {
   "cell_type": "markdown",
   "metadata": {
    "id": "tdJxPhdeWcPW"
   },
   "source": [
    "# Bootstrapping of residuals in linear regression"
   ]
  },
  {
   "cell_type": "markdown",
   "metadata": {
    "id": "sgH1JhngTT4T"
   },
   "source": [
    "In this example we will estimate the standard error and confidence intervals for a coefficient vector in a linear regression model by bootstrapping the residuals.\n",
    "\n",
    "$ Y = a X + b$\n",
    "\n",
    "In residual bootstrap, we add the resampled (with replacement) residuals ($Y - Y_{fit}$) to the fitted values to produce a new pseudo-sample.\n",
    "\n",
    "\n",
    "The technique used in this example involves bootstrapping the residuals and assumes that the predictor variable is fixed."
   ]
  },
  {
   "cell_type": "markdown",
   "metadata": {
    "id": "mQSRpecGWUSl"
   },
   "source": [
    "## Dataset for the regression model"
   ]
  },
  {
   "cell_type": "markdown",
   "metadata": {
    "id": "_SqH1-DnydVg"
   },
   "source": [
    "We read the data in the file \"data_for_regression.csv\" as a DataFrame df with a dependent variable $y$ and two independent variables $x_1$ and $x_2$"
   ]
  },
  {
   "cell_type": "code",
   "execution_count": 164,
   "metadata": {
    "id": "I903W5TT6v_c"
   },
   "outputs": [],
   "source": [
    "import pandas as pd\n",
    "import numpy as np\n",
    "import matplotlib.pyplot as plt"
   ]
  },
  {
   "cell_type": "code",
   "execution_count": 165,
   "metadata": {
    "id": "mI5fz4c1G554"
   },
   "outputs": [],
   "source": [
    "dataset_file = \"../Datasets/data_for_regression.csv\""
   ]
  },
  {
   "cell_type": "code",
   "execution_count": 166,
   "metadata": {
    "id": "aVs4Zzb3HHaK"
   },
   "outputs": [
    {
     "data": {
      "text/html": [
       "<div>\n",
       "<style scoped>\n",
       "    .dataframe tbody tr th:only-of-type {\n",
       "        vertical-align: middle;\n",
       "    }\n",
       "\n",
       "    .dataframe tbody tr th {\n",
       "        vertical-align: top;\n",
       "    }\n",
       "\n",
       "    .dataframe thead th {\n",
       "        text-align: right;\n",
       "    }\n",
       "</style>\n",
       "<table border=\"1\" class=\"dataframe\">\n",
       "  <thead>\n",
       "    <tr style=\"text-align: right;\">\n",
       "      <th></th>\n",
       "      <th>Data</th>\n",
       "      <th>x1</th>\n",
       "      <th>x2</th>\n",
       "      <th>y</th>\n",
       "    </tr>\n",
       "  </thead>\n",
       "  <tbody>\n",
       "    <tr>\n",
       "      <th>0</th>\n",
       "      <td>1</td>\n",
       "      <td>2015</td>\n",
       "      <td>643.09</td>\n",
       "      <td>234314.144</td>\n",
       "    </tr>\n",
       "    <tr>\n",
       "      <th>1</th>\n",
       "      <td>2</td>\n",
       "      <td>2009</td>\n",
       "      <td>656.22</td>\n",
       "      <td>228581.528</td>\n",
       "    </tr>\n",
       "    <tr>\n",
       "      <th>2</th>\n",
       "      <td>3</td>\n",
       "      <td>2018</td>\n",
       "      <td>487.29</td>\n",
       "      <td>281626.336</td>\n",
       "    </tr>\n",
       "    <tr>\n",
       "      <th>3</th>\n",
       "      <td>4</td>\n",
       "      <td>2015</td>\n",
       "      <td>1504.75</td>\n",
       "      <td>401255.608</td>\n",
       "    </tr>\n",
       "    <tr>\n",
       "      <th>4</th>\n",
       "      <td>5</td>\n",
       "      <td>2009</td>\n",
       "      <td>1275.46</td>\n",
       "      <td>458674.256</td>\n",
       "    </tr>\n",
       "  </tbody>\n",
       "</table>\n",
       "</div>"
      ],
      "text/plain": [
       "   Data     x1       x2           y\n",
       "0      1  2015   643.09  234314.144\n",
       "1      2  2009   656.22  228581.528\n",
       "2      3  2018   487.29  281626.336\n",
       "3      4  2015  1504.75  401255.608\n",
       "4      5  2009  1275.46  458674.256"
      ]
     },
     "execution_count": 166,
     "metadata": {},
     "output_type": "execute_result"
    }
   ],
   "source": [
    "df = pd.read_csv(dataset_file)\n",
    "df.head()"
   ]
  },
  {
   "cell_type": "markdown",
   "metadata": {
    "id": "_dkS3s4OOlEx"
   },
   "source": [
    "Scatter plot against one predictor:"
   ]
  },
  {
   "cell_type": "code",
   "execution_count": 167,
   "metadata": {
    "id": "D4VU8lOJOx3x"
   },
   "outputs": [
    {
     "data": {
      "text/plain": [
       "<matplotlib.collections.PathCollection at 0x7f446140e8c0>"
      ]
     },
     "execution_count": 167,
     "metadata": {},
     "output_type": "execute_result"
    },
    {
     "data": {
      "image/png": "[encoded data removed]",
      "text/plain": [
       "<Figure size 432x288 with 1 Axes>"
      ]
     },
     "metadata": {
      "needs_background": "light"
     },
     "output_type": "display_data"
    }
   ],
   "source": [
    "plt.scatter(df.x2,df.y)"
   ]
  },
  {
   "cell_type": "markdown",
   "metadata": {
    "id": "hlCNliCTRlkd"
   },
   "source": [
    "## Fit the regression model"
   ]
  },
  {
   "cell_type": "markdown",
   "metadata": {
    "id": "cGdZ0XNd1G3l"
   },
   "source": [
    "We can fit a linear regression model with `linear_model` of `scikit-learn` ([doc](https://scikit-learn.org/stable/modules/generated/sklearn.linear_model.LinearRegression.html))"
   ]
  },
  {
   "cell_type": "code",
   "execution_count": 168,
   "metadata": {
    "id": "QqPXK9IbN1aG"
   },
   "outputs": [
    {
     "name": "stdout",
     "output_type": "stream",
     "text": [
      "Coefficients = [3040.35598079  228.35242603]\n",
      "Intercept = -6021794.75\n"
     ]
    }
   ],
   "source": [
    "# Importing the linear_model module from scikit-learn\n",
    "from sklearn import linear_model\n",
    "\n",
    "# Creating a linear regression model object\n",
    "regr = linear_model.LinearRegression()\n",
    "\n",
    "# Fitting the model to the data, where df is assumed to be a DataFrame\n",
    "regr.fit(df[['x1', 'x2']], df.y)\n",
    "\n",
    "# Printing the coefficients and intercept of the linear regression model\n",
    "# coef_ contains the coefficients for each feature, and intercept_ contains the intercept\n",
    "print(f\"Coefficients = {regr.coef_}\\nIntercept = {regr.intercept_ : .2f}\")"
   ]
  },
  {
   "cell_type": "markdown",
   "metadata": {},
   "source": [
    "- The code imports the necessary `linear_model` module from scikit-learn.\n",
    "- It creates a linear regression model using the `LinearRegression` class.\n",
    "- The model is fitted to the data, where 'x1' and 'x2' are features, and 'y' is the target variable.\n",
    "- The coefficients and intercept of the fitted model are then printed to the console.\n",
    "\n",
    "This code provides insight into how the linear regression model represents the relationship between the features and the target variable in terms of coefficients and intercept."
   ]
  },
  {
   "cell_type": "markdown",
   "metadata": {
    "id": "9g93NRNrQIm2"
   },
   "source": [
    "We can compute the predicted values"
   ]
  },
  {
   "cell_type": "code",
   "execution_count": 169,
   "metadata": {
    "id": "bSs6CrCMA22h"
   },
   "outputs": [],
   "source": [
    "# Using the fitted linear regression model to predict the target variable 'y' based on features 'x1' and 'x2'\n",
    "y_fit = regr.predict(df[['x1', 'x2']])"
   ]
  },
  {
   "cell_type": "markdown",
   "metadata": {
    "id": "-dPAZybJmQS5"
   },
   "source": [
    "we can add this value to the dataframe"
   ]
  },
  {
   "cell_type": "code",
   "execution_count": 170,
   "metadata": {
    "id": "PjkLLB1NmAPq"
   },
   "outputs": [],
   "source": [
    "df['y_fit']=y_fit"
   ]
  },
  {
   "cell_type": "markdown",
   "metadata": {
    "id": "AHWWHbXFQN47"
   },
   "source": [
    "and visualize them"
   ]
  },
  {
   "cell_type": "code",
   "execution_count": 171,
   "metadata": {
    "id": "_MN3NPiVPGWE"
   },
   "outputs": [
    {
     "data": {
      "image/png": "[encoded data removed]",
      "text/plain": [
       "<Figure size 432x288 with 1 Axes>"
      ]
     },
     "metadata": {
      "needs_background": "light"
     },
     "output_type": "display_data"
    }
   ],
   "source": [
    "# Creating a scatter plot of the original data points (x2 vs y) with label 'Original Data'\n",
    "plt.scatter(df.x2, df.y, label='Original Data')\n",
    "\n",
    "# Overlaying the scatter plot with another set of points representing the predicted values (x2 vs y_fit) with label 'Predicted Values'\n",
    "plt.scatter(df.x2, y_fit, label='Predicted Values')\n",
    "\n",
    "# Adding labels to the axes\n",
    "plt.xlabel('x2')\n",
    "plt.ylabel('y')\n",
    "\n",
    "# Adding a legend\n",
    "plt.legend()\n",
    "\n",
    "# Displaying the plot\n",
    "plt.show()"
   ]
  },
  {
   "cell_type": "markdown",
   "metadata": {},
   "source": [
    "- The code uses `plt.scatter` to create a scatter plot of the original data points where the x-axis is 'x2' and the y-axis is 'y'.\n",
    "- It then overlays the same plot with another set of points representing the predicted values (`y_fit`) for each corresponding 'x2'.\n",
    "- The `plt.show()` command is used to display the plot.\n",
    "\n",
    "This visualization allows you to compare the original data points with the predicted values from the linear regression model for the feature 'x2'."
   ]
  },
  {
   "cell_type": "markdown",
   "metadata": {
    "id": "DnA5dU_HRqqP"
   },
   "source": [
    "## Compute the residuals"
   ]
  },
  {
   "cell_type": "markdown",
   "metadata": {
    "id": "dzIQ0YYs4tt2"
   },
   "source": [
    "We can compute the residuals, as follows"
   ]
  },
  {
   "cell_type": "code",
   "execution_count": 172,
   "metadata": {
    "id": "a8AIHNcTmbrw"
   },
   "outputs": [],
   "source": [
    "# Adding a new column 'res' to the DataFrame to store residuals\n",
    "df['res'] = y_fit - df['y']"
   ]
  },
  {
   "cell_type": "markdown",
   "metadata": {
    "id": "dADFhI0fBC_n"
   },
   "source": [
    "and visualize them"
   ]
  },
  {
   "cell_type": "code",
   "execution_count": 173,
   "metadata": {
    "id": "hmhiZQzXHARX"
   },
   "outputs": [
    {
     "data": {
      "image/png": "[encoded data removed]",
      "text/plain": [
       "<Figure size 432x288 with 1 Axes>"
      ]
     },
     "metadata": {
      "needs_background": "light"
     },
     "output_type": "display_data"
    }
   ],
   "source": [
    "# Creating a histogram of the residuals in the DataFrame 'df' with 20 bins and 'step' type\n",
    "_ = plt.hist(df['res'], bins=20, histtype='step')\n",
    "\n",
    "# Adding a label to the x-axis\n",
    "plt.xlabel('Residuals')\n",
    "\n",
    "# Adjusting the tick frequency on the x-axis\n",
    "plt.xticks(rotation=45)\n",
    "\n",
    "# Displaying the plot\n",
    "plt.show()"
   ]
  },
  {
   "cell_type": "markdown",
   "metadata": {},
   "source": [
    "- The `plt.hist` function is used to create a histogram.\n",
    "- The `df['res']` column represents the residuals calculated by subtracting the actual values from the predicted values.\n",
    "- The histogram is configured with 20 bins (`bins=20`) and a 'step' type.\n",
    "\n",
    "This visualization provides insight into the distribution of residuals, which is useful for assessing the model's performance. Ideally, residuals should be centered around zero and exhibit a roughly normal distribution for a well-fitted model."
   ]
  },
  {
   "cell_type": "code",
   "execution_count": 174,
   "metadata": {
    "id": "8GpZPomRBFtg"
   },
   "outputs": [
    {
     "data": {
      "image/png": "[encoded data removed]",
      "text/plain": [
       "<Figure size 432x288 with 1 Axes>"
      ]
     },
     "metadata": {
      "needs_background": "light"
     },
     "output_type": "display_data"
    }
   ],
   "source": [
    "# Creating a scatter plot to visualize the relationship between 'x2' and the residuals in the DataFrame 'df'\n",
    "plt.scatter(df['x2'], df['res'])\n",
    "\n",
    "# Adding labels to the axes\n",
    "plt.xlabel('x2')\n",
    "plt.ylabel('Residuals')\n",
    "\n",
    "# Displaying the plot\n",
    "plt.show()"
   ]
  },
  {
   "cell_type": "markdown",
   "metadata": {
    "id": "QnDQvlLORy5H"
   },
   "source": [
    "## Bootstrapping residual regression"
   ]
  },
  {
   "cell_type": "markdown",
   "metadata": {
    "id": "iJ7wcRJqTQXq"
   },
   "source": [
    "The objective is to estimate the standard errors for a coefficient vector (`regr.coeff_` and `regr.intercept_`) in a linear regression by bootstrapping the residuals.\n",
    "\n"
   ]
  },
  {
   "cell_type": "markdown",
   "metadata": {
    "id": "Vk-yrRUjp0HO"
   },
   "source": [
    "we can use the `pd.sample` function to generate a bootstrap resample of our residuals"
   ]
  },
  {
   "cell_type": "code",
   "execution_count": 175,
   "metadata": {
    "id": "3qXucklJRP-e"
   },
   "outputs": [],
   "source": [
    "res_boot = df.res.sample(frac=1,replace=True)"
   ]
  },
  {
   "cell_type": "code",
   "execution_count": 176,
   "metadata": {
    "id": "SpEHQRHaqMIg"
   },
   "outputs": [
    {
     "data": {
      "text/plain": [
       "14   -69955.292715\n",
       "78    -9483.902758\n",
       "47    34837.510688\n",
       "4    -81139.459637\n",
       "16    22992.499156\n",
       "Name: res, dtype: float64"
      ]
     },
     "execution_count": 176,
     "metadata": {},
     "output_type": "execute_result"
    }
   ],
   "source": [
    "res_boot.head()"
   ]
  },
  {
   "cell_type": "markdown",
   "metadata": {
    "id": "NMkSjRczqQL4"
   },
   "source": [
    "According to the method of boostrapping the residuals, we need to add these residual to the df.y column. As we can see, the indices of the raws in the `res_boot` series, are the bootstrapped version of the indices. If we want to sum the residuals to the df.y column, we have to rename the raw indices of the `res_boot` series"
   ]
  },
  {
   "cell_type": "code",
   "execution_count": 181,
   "metadata": {
    "id": "xJyGuGyUkc4w"
   },
   "outputs": [
    {
     "data": {
      "text/plain": [
       "Int64Index([14, 78, 47,  4, 16, 97,  9, 22, 51, 34, 29, 75, 57, 75, 64, 66, 78,\n",
       "             5, 32, 41, 59, 23, 88, 28, 46, 89, 46, 78, 56, 58, 90, 67, 85, 20,\n",
       "            86, 51, 92, 51, 98, 25, 37, 36,  8, 60, 43, 45, 85, 33, 18, 17, 58,\n",
       "            43, 84, 66, 38, 76, 95, 11, 89, 60, 71, 69, 48, 98, 44,  7, 46, 65,\n",
       "            43, 68, 22, 44, 62, 18, 65, 91, 57, 72,  3, 40, 95, 62, 31, 92, 51,\n",
       "            50, 59, 32, 19, 67, 39,  6, 76, 89, 41, 96, 69,  5, 19, 58],\n",
       "           dtype='int64')"
      ]
     },
     "execution_count": 181,
     "metadata": {},
     "output_type": "execute_result"
    }
   ],
   "source": [
    "res_boot.index"
   ]
  },
  {
   "cell_type": "code",
   "execution_count": 182,
   "metadata": {
    "scrolled": true
   },
   "outputs": [
    {
     "data": {
      "text/plain": [
       "51    4\n",
       "58    3\n",
       "43    3\n",
       "89    3\n",
       "46    3\n",
       "     ..\n",
       "37    1\n",
       "36    1\n",
       "8     1\n",
       "45    1\n",
       "96    1\n",
       "Length: 66, dtype: int64"
      ]
     },
     "execution_count": 182,
     "metadata": {},
     "output_type": "execute_result"
    }
   ],
   "source": [
    "res_boot.index.value_counts()"
   ]
  },
  {
   "cell_type": "code",
   "execution_count": 62,
   "metadata": {
    "id": "7QilbBAfoDIO"
   },
   "outputs": [
    {
     "data": {
      "text/plain": [
       "0   -22790.580120\n",
       "1    -6131.782488\n",
       "2    26245.129985\n",
       "3    20154.358814\n",
       "4     5595.147745\n",
       "Name: res, dtype: float64"
      ]
     },
     "execution_count": 62,
     "metadata": {},
     "output_type": "execute_result"
    }
   ],
   "source": [
    "res_boot.index = range(res_boot.shape[0])\n",
    "res_boot.head()"
   ]
  },
  {
   "cell_type": "markdown",
   "metadata": {
    "id": "_wAvWN1Urauy"
   },
   "source": [
    "We can add at this point also the bootstrapped residuals to the dataframe"
   ]
  },
  {
   "cell_type": "code",
   "execution_count": 63,
   "metadata": {
    "id": "HfUczOTDbsJp"
   },
   "outputs": [],
   "source": [
    "df['res_boot'] = res_boot"
   ]
  },
  {
   "cell_type": "code",
   "execution_count": 64,
   "metadata": {
    "id": "Oc5T2aF0nhdz"
   },
   "outputs": [
    {
     "data": {
      "text/html": [
       "<div>\n",
       "<style scoped>\n",
       "    .dataframe tbody tr th:only-of-type {\n",
       "        vertical-align: middle;\n",
       "    }\n",
       "\n",
       "    .dataframe tbody tr th {\n",
       "        vertical-align: top;\n",
       "    }\n",
       "\n",
       "    .dataframe thead th {\n",
       "        text-align: right;\n",
       "    }\n",
       "</style>\n",
       "<table border=\"1\" class=\"dataframe\">\n",
       "  <thead>\n",
       "    <tr style=\"text-align: right;\">\n",
       "      <th></th>\n",
       "      <th>Data</th>\n",
       "      <th>x1</th>\n",
       "      <th>x2</th>\n",
       "      <th>y</th>\n",
       "      <th>y_fit</th>\n",
       "      <th>Res</th>\n",
       "      <th>res</th>\n",
       "      <th>res_boot</th>\n",
       "    </tr>\n",
       "  </thead>\n",
       "  <tbody>\n",
       "    <tr>\n",
       "      <th>0</th>\n",
       "      <td>1</td>\n",
       "      <td>2015</td>\n",
       "      <td>643.09</td>\n",
       "      <td>234314.144</td>\n",
       "      <td>251373.708599</td>\n",
       "      <td>17059.564599</td>\n",
       "      <td>17059.564599</td>\n",
       "      <td>-22790.580120</td>\n",
       "    </tr>\n",
       "    <tr>\n",
       "      <th>1</th>\n",
       "      <td>2</td>\n",
       "      <td>2009</td>\n",
       "      <td>656.22</td>\n",
       "      <td>228581.528</td>\n",
       "      <td>236129.840068</td>\n",
       "      <td>7548.312068</td>\n",
       "      <td>7548.312068</td>\n",
       "      <td>-6131.782488</td>\n",
       "    </tr>\n",
       "    <tr>\n",
       "      <th>2</th>\n",
       "      <td>3</td>\n",
       "      <td>2018</td>\n",
       "      <td>487.29</td>\n",
       "      <td>281626.336</td>\n",
       "      <td>224917.468565</td>\n",
       "      <td>-56708.867435</td>\n",
       "      <td>-56708.867435</td>\n",
       "      <td>26245.129985</td>\n",
       "    </tr>\n",
       "    <tr>\n",
       "      <th>3</th>\n",
       "      <td>4</td>\n",
       "      <td>2015</td>\n",
       "      <td>1504.75</td>\n",
       "      <td>401255.608</td>\n",
       "      <td>448135.860013</td>\n",
       "      <td>46880.252013</td>\n",
       "      <td>46880.252013</td>\n",
       "      <td>20154.358814</td>\n",
       "    </tr>\n",
       "    <tr>\n",
       "      <th>4</th>\n",
       "      <td>5</td>\n",
       "      <td>2009</td>\n",
       "      <td>1275.46</td>\n",
       "      <td>458674.256</td>\n",
       "      <td>377534.796363</td>\n",
       "      <td>-81139.459637</td>\n",
       "      <td>-81139.459637</td>\n",
       "      <td>5595.147745</td>\n",
       "    </tr>\n",
       "  </tbody>\n",
       "</table>\n",
       "</div>"
      ],
      "text/plain": [
       "   Data     x1       x2           y          y_fit           Res  \\\n",
       "0      1  2015   643.09  234314.144  251373.708599  17059.564599   \n",
       "1      2  2009   656.22  228581.528  236129.840068   7548.312068   \n",
       "2      3  2018   487.29  281626.336  224917.468565 -56708.867435   \n",
       "3      4  2015  1504.75  401255.608  448135.860013  46880.252013   \n",
       "4      5  2009  1275.46  458674.256  377534.796363 -81139.459637   \n",
       "\n",
       "            res      res_boot  \n",
       "0  17059.564599 -22790.580120  \n",
       "1   7548.312068  -6131.782488  \n",
       "2 -56708.867435  26245.129985  \n",
       "3  46880.252013  20154.358814  \n",
       "4 -81139.459637   5595.147745  "
      ]
     },
     "execution_count": 64,
     "metadata": {},
     "output_type": "execute_result"
    }
   ],
   "source": [
    "df.head()"
   ]
  },
  {
   "cell_type": "markdown",
   "metadata": {
    "id": "LYQo17xjXSMM"
   },
   "source": [
    "We can implement the estimate of the SE of the regression parameters by the bootstrap residual regression model as follows:"
   ]
  },
  {
   "cell_type": "code",
   "execution_count": 67,
   "metadata": {
    "id": "SrwxnTbpG-82"
   },
   "outputs": [],
   "source": [
    "# Initializing empty lists to store bootstrapped coefficients and intercepts\n",
    "coef1_boot, coef2_boot, intercept_boot, n_boots = [], [], [], 1000\n",
    "\n",
    "# Looping through the specified number of bootstrap iterations\n",
    "for i in range(n_boots):\n",
    "    # Creating a bootstrap sample with replacement on the Res vector (residuals)\n",
    "    res_boot = df.res.sample(frac=1, replace=True)\n",
    "    \n",
    "    # Renaming the row indices of the bootstrapped residuals\n",
    "    res_boot.index = range(res_boot.shape[0])\n",
    "    \n",
    "    # Fitting the linear regression model to the original data with bootstrapped residuals\n",
    "    regr.fit(df[['x1', 'x2']], df.y + res_boot)\n",
    "    \n",
    "    # Appending the estimated coefficients and intercept to the lists\n",
    "    coef1_boot.append(regr.coef_[0])\n",
    "    coef2_boot.append(regr.coef_[1])\n",
    "    intercept_boot.append(regr.intercept_)\n"
   ]
  },
  {
   "cell_type": "markdown",
   "metadata": {},
   "source": [
    "- The code initializes empty lists (`coef1_boot`, `coef2_boot`, `intercept_boot`) to store bootstrapped coefficients and intercepts.\n",
    "- It loops through the specified number of bootstrap iterations (`n_boots`).\n",
    "- In each iteration, it creates a bootstrap sample of residuals (`res_boot`) by sampling with replacement from the original residuals (`df.res`).\n",
    "- The row indices of the bootstrapped residuals are then renamed.\n",
    "- The linear regression model is fitted to the original data with the bootstrapped residuals.\n",
    "- The estimated coefficients and intercept from the fitted model are appended to their respective lists.\n",
    "\n",
    "This procedure allows you to estimate the distribution of coefficients and intercepts by fitting the linear regression model multiple times with different bootstrapped samples of residuals."
   ]
  },
  {
   "cell_type": "markdown",
   "metadata": {
    "id": "0pUZdZ9JWRKy"
   },
   "source": [
    "We can thus estimate the standard errors of the  coefficients:"
   ]
  },
  {
   "cell_type": "code",
   "execution_count": 69,
   "metadata": {
    "id": "mDo6H_5o0Wfp"
   },
   "outputs": [
    {
     "name": "stdout",
     "output_type": "stream",
     "text": [
      "The SE are: \n",
      " for coef1 coefficient = 796.2491658381163 \n",
      " for coef2 coefficient = 12.214300049459334  \n",
      " for the intercept = 1604511.5415232275\n"
     ]
    }
   ],
   "source": [
    "# Calculating the standard errors for the bootstrapped coefficients and intercept\n",
    "SE_coef1 = np.std(coef1_boot)\n",
    "SE_coef2 = np.std(coef2_boot)\n",
    "SE_intercept_boot = np.std(intercept_boot)\n",
    "\n",
    "# Printing the standard errors\n",
    "print(f\"The SE are: \\n for coef1 coefficient = {SE_coef1} \\n for coef2 coefficient = {SE_coef2}  \\n for the intercept = {SE_intercept_boot}\")"
   ]
  },
  {
   "cell_type": "markdown",
   "metadata": {
    "id": "oYMe_jZHQxQm"
   },
   "source": [
    "The coefficients and intercept of the LinearRegression fit were:"
   ]
  },
  {
   "cell_type": "code",
   "execution_count": 70,
   "metadata": {
    "id": "RsekQeGGlqs7"
   },
   "outputs": [
    {
     "data": {
      "text/plain": [
       "(array([3626.47901256,  220.23195409]), -7196228.025547708)"
      ]
     },
     "execution_count": 70,
     "metadata": {},
     "output_type": "execute_result"
    }
   ],
   "source": [
    "regr.coef_, regr.intercept_"
   ]
  },
  {
   "cell_type": "code",
   "execution_count": 152,
   "metadata": {},
   "outputs": [
    {
     "data": {
      "image/png": "[encoded data removed]",
      "text/plain": [
       "<Figure size 576x360 with 3 Axes>"
      ]
     },
     "metadata": {
      "needs_background": "light"
     },
     "output_type": "display_data"
    }
   ],
   "source": [
    "# Creating subplots\n",
    "fig, axes = plt.subplots(nrows=2, ncols=2, figsize=(8, 5))\n",
    "\n",
    "# Plotting on the first subplot\n",
    "hist_plot1 = axes[0, 0].hist(coef1_boot, bins=20, color='blue', alpha=0.5)\n",
    "axes[0, 0].set_title('Coef1_boot')\n",
    "axes[0, 0].vlines(np.percentile(coef1_boot, [2.5, 97.5]), ymin=0, ymax=max(hist_plot1[0]), colors='red', linestyles='dashed')\n",
    "\n",
    "# Plotting on the second subplot\n",
    "hist_plot2 = axes[0, 1].hist(coef2_boot, bins=20, color='green', alpha=0.5)\n",
    "axes[0, 1].set_title('Coef2_boot')\n",
    "axes[0, 1].vlines(np.percentile(coef2_boot, [2.5, 97.5]), ymin=0, ymax=max(hist_plot2[0]), colors='red', linestyles='dashed')\n",
    "\n",
    "\n",
    "# Plotting on the third subplot\n",
    "hist_plot3 = axes[1, 0].hist(intercept_boot, bins=20, color='red', alpha=0.5)\n",
    "axes[1, 0].set_title('Intercept_boot')\n",
    "axes[1, 0].vlines(np.percentile(intercept_boot, [2.5, 97.5]), ymin=0, ymax=max(hist_plot3[0]), colors='red', linestyles='dashed')\n",
    "\n",
    "\n",
    "# Removing the empty subplot in the last row and column\n",
    "fig.delaxes(axes[1, 1])\n",
    "\n",
    "# Adjusting layout\n",
    "plt.tight_layout()\n",
    "\n",
    "# Displaying the plot\n",
    "plt.show()\n"
   ]
  },
  {
   "cell_type": "code",
   "execution_count": 75,
   "metadata": {
    "id": "RLqWNC4Hx8df"
   },
   "outputs": [
    {
     "name": "stdout",
     "output_type": "stream",
     "text": [
      "The 95% CI are: \n",
      " for coef1 coefficient = [1462.16041205 4626.02130543] \n",
      " for coef2 coefficient = [205.29606983 253.84472117]  \n",
      " for the intercept = [-9230026.02788064 -2853511.72169653]\n"
     ]
    }
   ],
   "source": [
    "# Calculating the 95% confidence intervals for the bootstrapped coefficients and intercept\n",
    "CI_coef1 = np.percentile(coef1_boot, [2.5, 97.5])\n",
    "CI_coef2 = np.percentile(coef2_boot, [2.5, 97.5])\n",
    "CI_intercept = np.percentile(intercept_boot, [2.5, 97.5])\n",
    "\n",
    "# Printing the 95% confidence intervals\n",
    "print(f\"The 95% CI are: \\n for coef1 coefficient = {CI_coef1} \\n for coef2 coefficient = {CI_coef2}  \\n for the intercept = {CI_intercept}\")"
   ]
  }
 ],
 "metadata": {
  "colab": {
   "provenance": []
  },
  "kernelspec": {
   "display_name": "Python 3 (ipykernel)",
   "language": "python",
   "name": "python3"
  },
  "language_info": {
   "codemirror_mode": {
    "name": "ipython",
    "version": 3
   },
   "file_extension": ".py",
   "mimetype": "text/x-python",
   "name": "python",
   "nbconvert_exporter": "python",
   "pygments_lexer": "ipython3",
   "version": "3.10.12"
  }
 },
 "nbformat": 4,
 "nbformat_minor": 4
}
