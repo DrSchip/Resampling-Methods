{
 "cells": [
  {
   "cell_type": "markdown",
   "metadata": {
    "id": "Cj3e1FfavPFW"
   },
   "source": [
    "# Permutations and combinations"
   ]
  },
  {
   "cell_type": "markdown",
   "metadata": {
    "id": "75V83zVpV_Tr"
   },
   "source": [
    "A *permutation* of a list of objects is an arrangement or rearrangement of its members into a sequence. The word *permutation* also refers to the process of changing the  order of the set.\n",
    "\n",
    "\n",
    "The number of permutations of a sequence of 3 objects (e.g. three colors [red, blue, green]) are all the possible orderings of this three-element set, which are 6:\n",
    "\n",
    "[red, blue, green]\n",
    "\n",
    "[red, green, blue]\n",
    "\n",
    "[green, red, blue]\n",
    "\n",
    "[green, blue, red]\n",
    "\n",
    "[blue, red, green]\n",
    "\n",
    "[blue, green, red]\n",
    "\n",
    "The number of permutations of n distinct objects is  *n!* (*n factorial*) which means the product of all positive integers less than or equal to n:\n",
    "\n",
    "$n! = n (n-1) (n-2) ... (3) (2) (1) $\n",
    "\n",
    "In fact, there are $n$ ways to choose the object that occupies the first position, for each of them there are $n-1$ ways to choose the object that occupies the second position, then for each pair of objects fixed in the first two positions there are $n-2$ ways to choose the object in the third position, and so on, until all positions are filled.\n",
    "\n",
    "\n"
   ]
  },
  {
   "cell_type": "markdown",
   "metadata": {
    "id": "OQUGOLy2YiKD"
   },
   "source": [
    "*Permutations* differ from *combinations*, which are selections of some members of a set regardless of order.  A combination is a selection of items from a collection, such that the order of selection does not matter.\n",
    "\n",
    "A $k$-combination of a set $S$ is a subset of $k$ distinct elements of $S$. If the set has $n$ elements, the number of $k$-combinations is equal to the *binomial coefficient*:\n",
    "\n",
    "$\\binom{n}{k} = \\frac{n!}{k!(n-k)!}$\n",
    "\n",
    "Combinations refer to the combination of $n$ things taken $k$ at a time without repetition.\n"
   ]
  },
  {
   "cell_type": "markdown",
   "metadata": {
    "id": "6IEd1c6lx46R"
   },
   "source": [
    "# Computing permutations and combinations"
   ]
  },
  {
   "cell_type": "markdown",
   "metadata": {
    "id": "6rVxG2ERq0-n"
   },
   "source": [
    "Python provides direct methods to find permutations and combinations of a sequence. A Python module which implements a number of iterator building blocks is `itertools` [[doc]](https://docs.python.org/3/library/itertools.html)\n",
    "\n",
    "`permutations()` returns r-length tuples*, all possible orderings, no repeated elements\n",
    "\n",
    "`combinations()` returns r-length tuples, in sorted order, no repeated elements\n",
    "\n",
    "`combinations_with_replacement()` returns r-length tuples, in sorted order, with repeated elements\n",
    "\n",
    "(*tuples are a data structures that store an ordered sequence of values)\n"
   ]
  },
  {
   "cell_type": "markdown",
   "metadata": {
    "id": "K7Ic1PAtwc4n"
   },
   "source": [
    "### Permutations"
   ]
  },
  {
   "cell_type": "markdown",
   "metadata": {
    "id": "q7dl7KrTvhqU"
   },
   "source": [
    "Permutations are typically used in Permutation Test to generate the distribution of a test statistic under the null hypothesis.\n",
    "For example, if we want to study whether a new drug is effective to treat a pathology, and we have collected data of subjects undergone that treatment and control subjects, the null hypothesis is that the a treatment has no effect.  \n",
    "\n",
    "This is done by\n",
    "randomly shuffling the sample many times (i.e. randomly assigning each subject to either the treated or control samples).\n",
    "Then, the statistic\n",
    "of interest is computed in each reshuffled sample.\n",
    "\n",
    "Finally, the estimate from\n",
    "the original sample is compared with the distribution of estimates from the\n",
    "reshuffled samples to evaluate how different the observed estimate is from\n",
    "random reshuffling."
   ]
  },
  {
   "cell_type": "markdown",
   "metadata": {
    "id": "AIpwEqBIukRO"
   },
   "source": [
    "There are different agorithms to generate permutations of a given set. The methods to be applied  depend on whether one wants some randomly chosen permutations, or all permutations."
   ]
  },
  {
   "cell_type": "code",
   "execution_count": 46,
   "metadata": {
    "executionInfo": {
     "elapsed": 4,
     "status": "ok",
     "timestamp": 1698136008186,
     "user": {
      "displayName": "Alessandra Retico",
      "userId": "14532676711952981925"
     },
     "user_tz": -120
    },
    "id": "zdfUPdxU2C2Q"
   },
   "outputs": [],
   "source": [
    "from itertools import permutations"
   ]
  },
  {
   "cell_type": "markdown",
   "metadata": {
    "id": "Svc_1yOzspOz"
   },
   "source": [
    "Get all permutations of [1, 2, 3], with `permutations()`. It generates $n!$ permutations if the length of the input sequence is $n$."
   ]
  },
  {
   "cell_type": "code",
   "execution_count": 47,
   "metadata": {
    "executionInfo": {
     "elapsed": 539,
     "status": "ok",
     "timestamp": 1698136047799,
     "user": {
      "displayName": "Alessandra Retico",
      "userId": "14532676711952981925"
     },
     "user_tz": -120
    },
    "id": "tOH7Rqpn2ML7"
   },
   "outputs": [],
   "source": [
    "perm = permutations([1, 2, 3])"
   ]
  },
  {
   "cell_type": "markdown",
   "metadata": {
    "id": "kPHEuMGDt9V3"
   },
   "source": [
    "This method takes a list as an input and returns an object list of tuples that contain all permutations in a list form."
   ]
  },
  {
   "cell_type": "code",
   "execution_count": 48,
   "metadata": {
    "colab": {
     "base_uri": "https://localhost:8080/"
    },
    "executionInfo": {
     "elapsed": 229,
     "status": "ok",
     "timestamp": 1698136073035,
     "user": {
      "displayName": "Alessandra Retico",
      "userId": "14532676711952981925"
     },
     "user_tz": -120
    },
    "id": "hF2ciii32cA_",
    "outputId": "1e77fe4d-1c26-40f5-f088-92a4bc76fb92"
   },
   "outputs": [
    {
     "name": "stdout",
     "output_type": "stream",
     "text": [
      "(1, 2, 3)\n",
      "(1, 3, 2)\n",
      "(2, 1, 3)\n",
      "(2, 3, 1)\n",
      "(3, 1, 2)\n",
      "(3, 2, 1)\n"
     ]
    }
   ],
   "source": [
    "for i in list(perm):\n",
    "    print (i)"
   ]
  },
  {
   "cell_type": "markdown",
   "metadata": {
    "id": "hTSmLoPRswDx"
   },
   "source": [
    "The same can be done with ['red','blue','green']"
   ]
  },
  {
   "cell_type": "markdown",
   "metadata": {
    "id": "-49npbSkuRX5"
   },
   "source": [
    "We can also get all permutations of a given length, as follows:"
   ]
  },
  {
   "cell_type": "code",
   "execution_count": 49,
   "metadata": {
    "colab": {
     "base_uri": "https://localhost:8080/"
    },
    "executionInfo": {
     "elapsed": 248,
     "status": "ok",
     "timestamp": 1698136140895,
     "user": {
      "displayName": "Alessandra Retico",
      "userId": "14532676711952981925"
     },
     "user_tz": -120
    },
    "id": "1OkgOFf-uQ1L",
    "outputId": "dba214bb-f1e3-4a3c-f27b-ed19b5974c1f"
   },
   "outputs": [
    {
     "name": "stdout",
     "output_type": "stream",
     "text": [
      "(1, 2)\n",
      "(1, 3)\n",
      "(1, 4)\n",
      "(2, 1)\n",
      "(2, 3)\n",
      "(2, 4)\n",
      "(3, 1)\n",
      "(3, 2)\n",
      "(3, 4)\n",
      "(4, 1)\n",
      "(4, 2)\n",
      "(4, 3)\n"
     ]
    }
   ],
   "source": [
    "perm = permutations([1, 2, 3, 4], 2)\n",
    "for i in list(perm):\n",
    "    print (i)"
   ]
  },
  {
   "cell_type": "markdown",
   "metadata": {
    "id": "LEgf13rQdXYP"
   },
   "source": [
    "You can count them:"
   ]
  },
  {
   "cell_type": "code",
   "execution_count": 50,
   "metadata": {
    "colab": {
     "base_uri": "https://localhost:8080/"
    },
    "executionInfo": {
     "elapsed": 5,
     "status": "ok",
     "timestamp": 1698136205954,
     "user": {
      "displayName": "Alessandra Retico",
      "userId": "14532676711952981925"
     },
     "user_tz": -120
    },
    "id": "3xvjkv15dfg3",
    "outputId": "fa029d2b-b772-4001-c4d7-a78ca4bcbb57"
   },
   "outputs": [
    {
     "name": "stdout",
     "output_type": "stream",
     "text": [
      "(1, 2)\n",
      "(1, 3)\n",
      "(1, 4)\n",
      "(2, 1)\n",
      "(2, 3)\n",
      "(2, 4)\n",
      "(3, 1)\n",
      "(3, 2)\n",
      "(3, 4)\n",
      "(4, 1)\n",
      "(4, 2)\n",
      "(4, 3)\n"
     ]
    }
   ],
   "source": [
    "n_perm = 0\n",
    "perm = permutations([1, 2, 3, 4], 2)\n",
    "for i in list(perm):\n",
    "  print(i)\n",
    "  n_perm += 1"
   ]
  },
  {
   "cell_type": "code",
   "execution_count": 51,
   "metadata": {
    "colab": {
     "base_uri": "https://localhost:8080/"
    },
    "executionInfo": {
     "elapsed": 341,
     "status": "ok",
     "timestamp": 1698136210127,
     "user": {
      "displayName": "Alessandra Retico",
      "userId": "14532676711952981925"
     },
     "user_tz": -120
    },
    "id": "PZk3JGF2eA3T",
    "outputId": "79f45691-a524-4582-c9d0-b3114e3098ff"
   },
   "outputs": [
    {
     "name": "stdout",
     "output_type": "stream",
     "text": [
      "the number of permutation is 12\n"
     ]
    }
   ],
   "source": [
    "print(f'the number of permutation is {n_perm}')"
   ]
  },
  {
   "cell_type": "code",
   "execution_count": 52,
   "metadata": {
    "colab": {
     "base_uri": "https://localhost:8080/"
    },
    "executionInfo": {
     "elapsed": 502,
     "status": "ok",
     "timestamp": 1698136220809,
     "user": {
      "displayName": "Alessandra Retico",
      "userId": "14532676711952981925"
     },
     "user_tz": -120
    },
    "id": "saOiS8MC-62X",
    "outputId": "ce18aaae-f2a6-4694-a351-3d0a32241fc2"
   },
   "outputs": [
    {
     "data": {
      "text/plain": [
       "list"
      ]
     },
     "execution_count": 52,
     "metadata": {},
     "output_type": "execute_result"
    }
   ],
   "source": [
    "type(list(permutations([1, 2, 3, 4], 2)))"
   ]
  },
  {
   "cell_type": "code",
   "execution_count": 53,
   "metadata": {
    "colab": {
     "base_uri": "https://localhost:8080/"
    },
    "executionInfo": {
     "elapsed": 236,
     "status": "ok",
     "timestamp": 1698136233889,
     "user": {
      "displayName": "Alessandra Retico",
      "userId": "14532676711952981925"
     },
     "user_tz": -120
    },
    "id": "oHfRomLpqjY5",
    "outputId": "b8ab12d5-6db2-4f24-bb58-9d8eb11f51d7"
   },
   "outputs": [
    {
     "data": {
      "text/plain": [
       "12"
      ]
     },
     "execution_count": 53,
     "metadata": {},
     "output_type": "execute_result"
    }
   ],
   "source": [
    "len(list(permutations([1, 2, 3, 4], 2)))"
   ]
  },
  {
   "cell_type": "markdown",
   "metadata": {
    "id": "SQ9nJFE7wjHF"
   },
   "source": [
    "### Combinations"
   ]
  },
  {
   "cell_type": "markdown",
   "metadata": {
    "id": "AZ9hLPJZtKSB"
   },
   "source": [
    "Print all *combinations* of given length"
   ]
  },
  {
   "cell_type": "code",
   "execution_count": 54,
   "metadata": {
    "executionInfo": {
     "elapsed": 234,
     "status": "ok",
     "timestamp": 1698136284688,
     "user": {
      "displayName": "Alessandra Retico",
      "userId": "14532676711952981925"
     },
     "user_tz": -120
    },
    "id": "Chh50vlcwwyT"
   },
   "outputs": [],
   "source": [
    "from itertools import combinations"
   ]
  },
  {
   "cell_type": "markdown",
   "metadata": {
    "id": "LjO8Xi4Ew5K1"
   },
   "source": [
    "Get all combinations of [1, 2, 3, 4]  and length 2"
   ]
  },
  {
   "cell_type": "code",
   "execution_count": 55,
   "metadata": {
    "colab": {
     "base_uri": "https://localhost:8080/"
    },
    "executionInfo": {
     "elapsed": 230,
     "status": "ok",
     "timestamp": 1698136288562,
     "user": {
      "displayName": "Alessandra Retico",
      "userId": "14532676711952981925"
     },
     "user_tz": -120
    },
    "id": "_s8fYkndw98Y",
    "outputId": "5f0c96a1-e9fa-45ec-8724-88f589ab98c6"
   },
   "outputs": [
    {
     "name": "stdout",
     "output_type": "stream",
     "text": [
      "(1, 2)\n",
      "(1, 3)\n",
      "(1, 4)\n",
      "(2, 3)\n",
      "(2, 4)\n",
      "(3, 4)\n"
     ]
    }
   ],
   "source": [
    "comb = combinations([1, 2, 3, 4], 2)\n",
    "for i in list(comb):\n",
    "    print (i)"
   ]
  },
  {
   "cell_type": "markdown",
   "metadata": {
    "id": "yrOzjD2BxDJG"
   },
   "source": [
    "The difference with permutations is apparent. In case of combinations the order is not relevant, thus a smaller number of objects are returned."
   ]
  },
  {
   "cell_type": "markdown",
   "metadata": {
    "id": "eHYnR3Y91MbZ"
   },
   "source": [
    " If we want to make a combination of the same element to the same element then we use `combinations_with_replacement()`."
   ]
  },
  {
   "cell_type": "code",
   "execution_count": 56,
   "metadata": {
    "executionInfo": {
     "elapsed": 226,
     "status": "ok",
     "timestamp": 1698136447142,
     "user": {
      "displayName": "Alessandra Retico",
      "userId": "14532676711952981925"
     },
     "user_tz": -120
    },
    "id": "qpq2F7jq1Tw7"
   },
   "outputs": [],
   "source": [
    "from itertools import combinations_with_replacement"
   ]
  },
  {
   "cell_type": "code",
   "execution_count": 57,
   "metadata": {
    "colab": {
     "base_uri": "https://localhost:8080/"
    },
    "executionInfo": {
     "elapsed": 240,
     "status": "ok",
     "timestamp": 1698136450668,
     "user": {
      "displayName": "Alessandra Retico",
      "userId": "14532676711952981925"
     },
     "user_tz": -120
    },
    "id": "dijRPwyX1U_2",
    "outputId": "abe922f2-9cab-4265-8cec-4f8a173462db"
   },
   "outputs": [
    {
     "name": "stdout",
     "output_type": "stream",
     "text": [
      "(1, 1)\n",
      "(1, 2)\n",
      "(1, 3)\n",
      "(1, 4)\n",
      "(2, 2)\n",
      "(2, 3)\n",
      "(2, 4)\n",
      "(3, 3)\n",
      "(3, 4)\n",
      "(4, 4)\n"
     ]
    }
   ],
   "source": [
    "comb = combinations_with_replacement([1, 2, 3, 4], 2)\n",
    "for i in list(comb):\n",
    "    print (i)"
   ]
  },
  {
   "cell_type": "markdown",
   "metadata": {
    "id": "JVaKvgPT0xKX"
   },
   "source": [
    "### Factorial growth"
   ]
  },
  {
   "cell_type": "markdown",
   "metadata": {
    "id": "w6AzF2sfzWxn"
   },
   "source": [
    "The number of permutations of $n$ objects is $n!$\n",
    "\n",
    "The growth of the factorial function with $n$ is very fast. The computation of the factorial can be approximated using the Stirling's formula, which approximates very well the computation for n>30."
   ]
  },
  {
   "cell_type": "code",
   "execution_count": 58,
   "metadata": {
    "colab": {
     "base_uri": "https://localhost:8080/"
    },
    "executionInfo": {
     "elapsed": 5,
     "status": "ok",
     "timestamp": 1698136580957,
     "user": {
      "displayName": "Alessandra Retico",
      "userId": "14532676711952981925"
     },
     "user_tz": -120
    },
    "id": "xKt05ENh0242",
    "outputId": "e13f5d3f-4885-43d7-e70c-7404a2a32752"
   },
   "outputs": [
    {
     "data": {
      "text/plain": [
       "5040"
      ]
     },
     "execution_count": 58,
     "metadata": {},
     "output_type": "execute_result"
    }
   ],
   "source": [
    "7*6*5*4*3*2"
   ]
  },
  {
   "cell_type": "code",
   "execution_count": 59,
   "metadata": {
    "executionInfo": {
     "elapsed": 368,
     "status": "ok",
     "timestamp": 1698136692774,
     "user": {
      "displayName": "Alessandra Retico",
      "userId": "14532676711952981925"
     },
     "user_tz": -120
    },
    "id": "eTM4sCEQQeWl"
   },
   "outputs": [],
   "source": [
    "import numpy as np"
   ]
  },
  {
   "cell_type": "code",
   "execution_count": 60,
   "metadata": {
    "executionInfo": {
     "elapsed": 248,
     "status": "ok",
     "timestamp": 1698136703885,
     "user": {
      "displayName": "Alessandra Retico",
      "userId": "14532676711952981925"
     },
     "user_tz": -120
    },
    "id": "CdUeoQh2ykl9"
   },
   "outputs": [],
   "source": [
    "def factorial(n):\n",
    "    \"\"\"Computation of the factorial of an integer number n, i.e.: n! = n(n-1)(n-2)...*3*2*1. \"\"\"\n",
    "    if n == 0:\n",
    "        return 1\n",
    "    else:\n",
    "        return n*factorial(n-1)"
   ]
  },
  {
   "cell_type": "code",
   "execution_count": 61,
   "metadata": {
    "colab": {
     "base_uri": "https://localhost:8080/"
    },
    "executionInfo": {
     "elapsed": 241,
     "status": "ok",
     "timestamp": 1698136898286,
     "user": {
      "displayName": "Alessandra Retico",
      "userId": "14532676711952981925"
     },
     "user_tz": -120
    },
    "id": "bGIGhqUG1ffX",
    "outputId": "3f3050a0-977c-4a52-e0dd-f5b454ca032f"
   },
   "outputs": [
    {
     "data": {
      "text/plain": [
       "120"
      ]
     },
     "execution_count": 61,
     "metadata": {},
     "output_type": "execute_result"
    }
   ],
   "source": [
    "factorial(5)"
   ]
  },
  {
   "cell_type": "code",
   "execution_count": 62,
   "metadata": {
    "executionInfo": {
     "elapsed": 664,
     "status": "ok",
     "timestamp": 1698136949805,
     "user": {
      "displayName": "Alessandra Retico",
      "userId": "14532676711952981925"
     },
     "user_tz": -120
    },
    "id": "wmQn0458x9hA"
   },
   "outputs": [],
   "source": [
    "def stirling(n):\n",
    "    \"\"\"Stirling's approximation to the factorial.\"\"\"\n",
    "    return np.sqrt(2*np.pi*n)*(n/np.e)**n"
   ]
  },
  {
   "cell_type": "code",
   "execution_count": 63,
   "metadata": {
    "colab": {
     "base_uri": "https://localhost:8080/"
    },
    "executionInfo": {
     "elapsed": 277,
     "status": "ok",
     "timestamp": 1698136963193,
     "user": {
      "displayName": "Alessandra Retico",
      "userId": "14532676711952981925"
     },
     "user_tz": -120
    },
    "id": "b0t_E2rb2WnA",
    "outputId": "cc790c02-62bd-40b1-d82e-51b04dca110d"
   },
   "outputs": [
    {
     "data": {
      "text/plain": [
       "118.0191679575901"
      ]
     },
     "execution_count": 63,
     "metadata": {},
     "output_type": "execute_result"
    }
   ],
   "source": [
    "stirling(5)"
   ]
  },
  {
   "cell_type": "markdown",
   "metadata": {
    "id": "VQzn0T0k0tNP"
   },
   "source": [
    "We can have a look at the fast growing on $n!$"
   ]
  },
  {
   "cell_type": "code",
   "execution_count": 123,
   "metadata": {
    "colab": {
     "base_uri": "https://localhost:8080/"
    },
    "executionInfo": {
     "elapsed": 237,
     "status": "ok",
     "timestamp": 1698136972184,
     "user": {
      "displayName": "Alessandra Retico",
      "userId": "14532676711952981925"
     },
     "user_tz": -120
    },
    "id": "ha0kxftp2hSg",
    "outputId": "89dc5f70-3ac0-4d33-a8b6-d449550c3d29"
   },
   "outputs": [
    {
     "name": "stdout",
     "output_type": "stream",
     "text": [
      "(1, 1, 0.9221370088957891)\n",
      "(3, 6, 5.836209591345864)\n",
      "(5, 120, 118.0191679575901)\n",
      "(7, 5040, 4980.395831612462)\n",
      "(9, 362880, 359536.87284194835)\n",
      "(11, 39916800, 39615625.05057755)\n",
      "(13, 6227020800, 6187239475.19272)\n",
      "(15, 1307674368000, 1300430722199.468)\n",
      "(17, 355687428096000, 353948328666101.1)\n",
      "(19, 121645100408832000, 1.2111278659229419e+17)\n"
     ]
    }
   ],
   "source": [
    "n = np.arange(1, 20, 2)\n",
    "\n",
    "n_f = [factorial(i) for i in n]\n",
    "\n",
    "# Assuming you have a stirling function defined or imported\n",
    "n_nfact = zip(n, n_f, [stirling(i) for i in n])\n",
    "\n",
    "for i in list(n_nfact):\n",
    "    print(i)"
   ]
  },
  {
   "cell_type": "markdown",
   "metadata": {
    "id": "8u8NfsaK0OuA"
   },
   "source": [
    "Because the number of permutations grows so fast, it is typically only feasible to use a \"Monte Carlo sample\" of the possible set of permutations in computation."
   ]
  },
  {
   "cell_type": "markdown",
   "metadata": {
    "id": "Bf92M-emLoKk"
   },
   "source": [
    "## Random permutations"
   ]
  },
  {
   "cell_type": "markdown",
   "metadata": {
    "id": "cS0Lcg_n3Wsy"
   },
   "source": [
    "Instead of considering all permutations, it is suitable for many applications to rely only on randomly selected permutations.\n",
    "\n",
    "The Numpy Random Sampling routine (`numpy.random`) allows to compute random permutations with `numpy.random.permutation` [[doc]](https://numpy.org/doc/stable/reference/random/generated/numpy.random.permutation.html)\n"
   ]
  },
  {
   "cell_type": "code",
   "execution_count": 65,
   "metadata": {
    "executionInfo": {
     "elapsed": 297,
     "status": "ok",
     "timestamp": 1698137153487,
     "user": {
      "displayName": "Alessandra Retico",
      "userId": "14532676711952981925"
     },
     "user_tz": -120
    },
    "id": "RGOCJRr43DJk"
   },
   "outputs": [],
   "source": [
    "import numpy as np"
   ]
  },
  {
   "cell_type": "markdown",
   "metadata": {
    "id": "b8fahAFi49Dr"
   },
   "source": [
    "`random.permutation(x)`  randomly permutes a sequence, or returns a permuted range:"
   ]
  },
  {
   "cell_type": "code",
   "execution_count": 66,
   "metadata": {
    "colab": {
     "base_uri": "https://localhost:8080/"
    },
    "executionInfo": {
     "elapsed": 585,
     "status": "ok",
     "timestamp": 1698137197286,
     "user": {
      "displayName": "Alessandra Retico",
      "userId": "14532676711952981925"
     },
     "user_tz": -120
    },
    "id": "GSzT4n235QrF",
    "outputId": "d2139e15-1bc2-44d2-dbad-df43c0db1776"
   },
   "outputs": [
    {
     "data": {
      "text/plain": [
       "array(['pear', 'apple', 'melon', 'apricot', 'orange'], dtype='<U7')"
      ]
     },
     "execution_count": 66,
     "metadata": {},
     "output_type": "execute_result"
    }
   ],
   "source": [
    "my_list =['orange', 'apple', 'pear', 'apricot', 'melon']\n",
    "np.random.permutation(my_list)"
   ]
  },
  {
   "cell_type": "markdown",
   "metadata": {
    "id": "MKdpCGLH53HM"
   },
   "source": [
    "If you execute the code above several times, you will see that a random permutation is generated at each time."
   ]
  },
  {
   "cell_type": "markdown",
   "metadata": {
    "id": "z1LQQh7y6IBa"
   },
   "source": [
    "When given an integer n, permutation treats is as the array arange(n)"
   ]
  },
  {
   "cell_type": "code",
   "execution_count": 67,
   "metadata": {
    "colab": {
     "base_uri": "https://localhost:8080/"
    },
    "executionInfo": {
     "elapsed": 245,
     "status": "ok",
     "timestamp": 1698137240793,
     "user": {
      "displayName": "Alessandra Retico",
      "userId": "14532676711952981925"
     },
     "user_tz": -120
    },
    "id": "A_AhnMdkrLlA",
    "outputId": "57bf7557-f649-447d-e248-7e3b4edcdf53"
   },
   "outputs": [
    {
     "data": {
      "text/plain": [
       "array([8, 1, 6, 0, 5, 9, 3, 4, 2, 7])"
      ]
     },
     "execution_count": 67,
     "metadata": {},
     "output_type": "execute_result"
    }
   ],
   "source": [
    "np.random.permutation(10)"
   ]
  },
  {
   "cell_type": "markdown",
   "metadata": {
    "id": "yhLcJk7q6Y-A"
   },
   "source": [
    "It is possible to permute the indices if you needed to permute collections of arrays in synchrony"
   ]
  },
  {
   "cell_type": "markdown",
   "metadata": {
    "id": "-7alDVP_9x9k"
   },
   "source": [
    "We can define two arrays, whose we want to permute the element synchronously:"
   ]
  },
  {
   "cell_type": "code",
   "execution_count": 118,
   "metadata": {
    "colab": {
     "base_uri": "https://localhost:8080/"
    },
    "executionInfo": {
     "elapsed": 286,
     "status": "ok",
     "timestamp": 1698137317651,
     "user": {
      "displayName": "Alessandra Retico",
      "userId": "14532676711952981925"
     },
     "user_tz": -120
    },
    "id": "eZxcZF-q9qDI",
    "outputId": "f76bda76-b078-4081-c928-82c45c335246"
   },
   "outputs": [
    {
     "name": "stdout",
     "output_type": "stream",
     "text": [
      "Array A:\n",
      "[[ 0  1]\n",
      " [ 2  3]\n",
      " [ 4  5]\n",
      " [ 6  7]\n",
      " [ 8  9]\n",
      " [10 11]]\n",
      "\n",
      "Array B (derived by adding 10 to each element of A):\n",
      "[[10 11]\n",
      " [12 13]\n",
      " [14 15]\n",
      " [16 17]\n",
      " [18 19]\n",
      " [20 21]]\n"
     ]
    }
   ],
   "source": [
    "A = np.arange(12).reshape(6, 2)\n",
    "B = A + 10\n",
    "\n",
    "print(\"Array A:\")\n",
    "print(A)\n",
    "\n",
    "print(\"\\nArray B (derived by adding 10 to each element of A):\")\n",
    "print(B)"
   ]
  },
  {
   "cell_type": "markdown",
   "metadata": {
    "id": "ZeoV2m1u-KmF"
   },
   "source": [
    "and permute the indices"
   ]
  },
  {
   "cell_type": "code",
   "execution_count": 104,
   "metadata": {},
   "outputs": [
    {
     "name": "stdout",
     "output_type": "stream",
     "text": [
      "The number of rows is: 6\n"
     ]
    }
   ],
   "source": [
    "print(f\"The number of rows is: {A.shape[0]}\")"
   ]
  },
  {
   "cell_type": "code",
   "execution_count": 121,
   "metadata": {
    "colab": {
     "base_uri": "https://localhost:8080/"
    },
    "executionInfo": {
     "elapsed": 262,
     "status": "ok",
     "timestamp": 1698137483834,
     "user": {
      "displayName": "Alessandra Retico",
      "userId": "14532676711952981925"
     },
     "user_tz": -120
    },
    "id": "B5Az5eiTrOxV",
    "outputId": "a1b1506e-c696-487f-b8d9-d0ae799df794"
   },
   "outputs": [
    {
     "name": "stdout",
     "output_type": "stream",
     "text": [
      "Indices: [5 0 2 3 1 4]\n",
      "\n",
      "[[10 11]\n",
      " [ 0  1]\n",
      " [ 4  5]\n",
      " [ 6  7]\n",
      " [ 2  3]\n",
      " [ 8  9]] \n",
      "\n",
      "Printing the first column of A array: [10  0  4  6  2  8]\n",
      "\n",
      "[[20 21]\n",
      " [10 11]\n",
      " [14 15]\n",
      " [16 17]\n",
      " [12 13]\n",
      " [18 19]]\n"
     ]
    }
   ],
   "source": [
    "# Generate a random permutation of indices for the rows of A and B\n",
    "idx = np.random.permutation(A.shape[0])\n",
    "\n",
    "# Print the shuffled indices\n",
    "print(f\"Indices: {idx}\\n\")\n",
    "\n",
    "# Shuffle the rows of array A based on the generated indices\n",
    "print(A[idx, :],\"\\n\")\n",
    "\n",
    "# Print the first column of the shuffled A array\n",
    "print(f\"Printing the first column of A array: {A[idx, 0]}\\n\")\n",
    "\n",
    "# Shuffle the rows of array B based on the same indices\n",
    "print(B[idx, :])"
   ]
  },
  {
   "cell_type": "markdown",
   "metadata": {
    "id": "PRmPDWFKumHG"
   },
   "source": [
    "## Shuffling an array"
   ]
  },
  {
   "cell_type": "code",
   "execution_count": 124,
   "metadata": {
    "id": "8Vo_xlvDutBS"
   },
   "outputs": [
    {
     "data": {
      "text/plain": [
       "array([[ 6,  1, 14, 13,  3,  8,  6,  0,  8,  5, 12, 12],\n",
       "       [ 7,  6,  3, 14,  6,  0,  1,  7,  5,  1,  6, 14],\n",
       "       [ 4,  6,  3, 11, 13,  6,  3, 10, 12, 14,  1,  4],\n",
       "       [11,  4,  6,  0, 13, 13,  4, 13,  2,  9,  2, 12],\n",
       "       [ 4, 13, 12,  6, 11, 12,  4,  9,  9, 14,  7,  3],\n",
       "       [11,  8,  5,  0,  1,  9, 12, 12,  5,  3,  1, 11],\n",
       "       [ 9, 12,  5,  1,  2,  3, 13,  8,  8,  2,  7,  6],\n",
       "       [ 0,  3,  9,  0,  5,  1,  1, 14,  7,  9,  3, 13]])"
      ]
     },
     "execution_count": 124,
     "metadata": {},
     "output_type": "execute_result"
    }
   ],
   "source": [
    "A = np.random.randint(0, 15, (8, 12))\n",
    "A"
   ]
  },
  {
   "cell_type": "markdown",
   "metadata": {
    "id": "bqxd7F8c-wjv"
   },
   "source": [
    "Whereas `np.random.permutation()` creates a copy of an array, in `np.random.shuffle()` the shuffling occurs *in place* for efficiency"
   ]
  },
  {
   "cell_type": "code",
   "execution_count": 127,
   "metadata": {
    "colab": {
     "base_uri": "https://localhost:8080/"
    },
    "executionInfo": {
     "elapsed": 436,
     "status": "ok",
     "timestamp": 1698137607660,
     "user": {
      "displayName": "Alessandra Retico",
      "userId": "14532676711952981925"
     },
     "user_tz": -120
    },
    "id": "muqzJEeauuN7",
    "outputId": "8e0ff430-13e5-4f59-9749-b641f0fdaa39"
   },
   "outputs": [
    {
     "data": {
      "text/plain": [
       "array([[11,  8,  5,  0,  1,  9, 12, 12,  5,  3,  1, 11],\n",
       "       [ 6,  1, 14, 13,  3,  8,  6,  0,  8,  5, 12, 12],\n",
       "       [ 0,  3,  9,  0,  5,  1,  1, 14,  7,  9,  3, 13],\n",
       "       [ 4,  6,  3, 11, 13,  6,  3, 10, 12, 14,  1,  4],\n",
       "       [ 9, 12,  5,  1,  2,  3, 13,  8,  8,  2,  7,  6],\n",
       "       [11,  4,  6,  0, 13, 13,  4, 13,  2,  9,  2, 12],\n",
       "       [ 4, 13, 12,  6, 11, 12,  4,  9,  9, 14,  7,  3],\n",
       "       [ 7,  6,  3, 14,  6,  0,  1,  7,  5,  1,  6, 14]])"
      ]
     },
     "execution_count": 127,
     "metadata": {},
     "output_type": "execute_result"
    }
   ],
   "source": [
    "np.random.shuffle(A)\n",
    "A"
   ]
  },
  {
   "cell_type": "markdown",
   "metadata": {
    "id": "QfSrs5LF_MT8"
   },
   "source": [
    "By default the rows are shuffled. To shuffle columns instead, the transpose array A.T should be shuffled."
   ]
  },
  {
   "cell_type": "code",
   "execution_count": 77,
   "metadata": {
    "colab": {
     "base_uri": "https://localhost:8080/"
    },
    "executionInfo": {
     "elapsed": 2,
     "status": "ok",
     "timestamp": 1698137716124,
     "user": {
      "displayName": "Alessandra Retico",
      "userId": "14532676711952981925"
     },
     "user_tz": -120
    },
    "id": "8x2tgFe55S6D",
    "outputId": "bc525e73-ef77-4262-9358-69a226f77b13"
   },
   "outputs": [
    {
     "data": {
      "text/plain": [
       "array([[7, 3, 6, 9, 2, 3, 7, 7],\n",
       "       [8, 8, 5, 8, 8, 1, 7, 8],\n",
       "       [6, 4, 0, 4, 7, 5, 7, 0],\n",
       "       [0, 2, 7, 6, 2, 8, 8, 4],\n",
       "       [6, 8, 7, 2, 2, 3, 3, 6],\n",
       "       [0, 5, 8, 1, 9, 2, 0, 1],\n",
       "       [6, 2, 8, 9, 9, 7, 3, 0],\n",
       "       [3, 3, 1, 1, 8, 3, 4, 6],\n",
       "       [1, 3, 8, 0, 6, 5, 9, 0],\n",
       "       [3, 1, 3, 5, 9, 4, 3, 6],\n",
       "       [4, 5, 2, 0, 7, 2, 9, 2],\n",
       "       [1, 4, 3, 5, 8, 5, 0, 2]])"
      ]
     },
     "execution_count": 77,
     "metadata": {},
     "output_type": "execute_result"
    }
   ],
   "source": [
    "A.T"
   ]
  },
  {
   "cell_type": "markdown",
   "metadata": {
    "id": "PDpLdVKZaRH7"
   },
   "source": [
    "We can shuffle an array also with the `sklearn.utils.shuffle`\n",
    "\n",
    "`sklearn.utils.shuffle(*arrays, random_state=None, n_samples=None)`\n",
    "\n",
    "It can consistenly shuffle different kinds of arrays."
   ]
  },
  {
   "cell_type": "code",
   "execution_count": 80,
   "metadata": {
    "executionInfo": {
     "elapsed": 3,
     "status": "ok",
     "timestamp": 1698137989248,
     "user": {
      "displayName": "Alessandra Retico",
      "userId": "14532676711952981925"
     },
     "user_tz": -120
    },
    "id": "ora55BtsaQjX"
   },
   "outputs": [],
   "source": [
    "X_features = np.array([[1., 2.1], [2., 3.1], [2.5, 3.], [0.5, 1.8], [0.7, 1.5], [1.5, 3.8], [0.7, 1.5], [0.3, 1.2]])\n",
    "Y_diagnosis = [1, 0, 1, 0, 1, 0, 1, 1]"
   ]
  },
  {
   "cell_type": "code",
   "execution_count": 81,
   "metadata": {
    "colab": {
     "base_uri": "https://localhost:8080/"
    },
    "executionInfo": {
     "elapsed": 4,
     "status": "ok",
     "timestamp": 1698137990260,
     "user": {
      "displayName": "Alessandra Retico",
      "userId": "14532676711952981925"
     },
     "user_tz": -120
    },
    "id": "3tWUv7zzbE81",
    "outputId": "7f40a5cd-99aa-43cf-ac13-815bf29d3ed4"
   },
   "outputs": [
    {
     "data": {
      "text/plain": [
       "(array([[1. , 2.1],\n",
       "        [2. , 3.1],\n",
       "        [2.5, 3. ],\n",
       "        [0.5, 1.8],\n",
       "        [0.7, 1.5],\n",
       "        [1.5, 3.8],\n",
       "        [0.7, 1.5],\n",
       "        [0.3, 1.2]]),\n",
       " [1, 0, 1, 0, 1, 0, 1, 1])"
      ]
     },
     "execution_count": 81,
     "metadata": {},
     "output_type": "execute_result"
    }
   ],
   "source": [
    "X_features, Y_diagnosis"
   ]
  },
  {
   "cell_type": "code",
   "execution_count": 136,
   "metadata": {
    "executionInfo": {
     "elapsed": 2,
     "status": "ok",
     "timestamp": 1698137991350,
     "user": {
      "displayName": "Alessandra Retico",
      "userId": "14532676711952981925"
     },
     "user_tz": -120
    },
    "id": "mfbHqCy9au1l"
   },
   "outputs": [],
   "source": [
    "from sklearn.utils import shuffle"
   ]
  },
  {
   "cell_type": "code",
   "execution_count": 176,
   "metadata": {
    "executionInfo": {
     "elapsed": 265,
     "status": "ok",
     "timestamp": 1698137993558,
     "user": {
      "displayName": "Alessandra Retico",
      "userId": "14532676711952981925"
     },
     "user_tz": -120
    },
    "id": "-Dr_c33Rap-o"
   },
   "outputs": [],
   "source": [
    "sX_features, sY_diagnosis = shuffle(X_features, Y_diagnosis,  random_state=1323)"
   ]
  },
  {
   "cell_type": "code",
   "execution_count": 177,
   "metadata": {
    "colab": {
     "base_uri": "https://localhost:8080/"
    },
    "executionInfo": {
     "elapsed": 260,
     "status": "ok",
     "timestamp": 1698137999823,
     "user": {
      "displayName": "Alessandra Retico",
      "userId": "14532676711952981925"
     },
     "user_tz": -120
    },
    "id": "vKh6bfWebDfh",
    "outputId": "afb3c376-4cfd-4a45-dff6-69046e4887c4"
   },
   "outputs": [
    {
     "data": {
      "text/plain": [
       "(array([[0.7, 1.5],\n",
       "        [0.7, 1.5],\n",
       "        [0.5, 1.8],\n",
       "        [1.5, 3.8],\n",
       "        [1. , 2.1],\n",
       "        [2.5, 3. ],\n",
       "        [2. , 3.1],\n",
       "        [0.3, 1.2]]),\n",
       " [1, 1, 0, 0, 1, 1, 0, 1])"
      ]
     },
     "execution_count": 177,
     "metadata": {},
     "output_type": "execute_result"
    }
   ],
   "source": [
    "sX_features, sY_diagnosis"
   ]
  }
 ],
 "metadata": {
  "colab": {
   "provenance": []
  },
  "kernelspec": {
   "display_name": "Python 3 (ipykernel)",
   "language": "python",
   "name": "python3"
  },
  "language_info": {
   "codemirror_mode": {
    "name": "ipython",
    "version": 3
   },
   "file_extension": ".py",
   "mimetype": "text/x-python",
   "name": "python",
   "nbconvert_exporter": "python",
   "pygments_lexer": "ipython3",
   "version": "3.10.12"
  }
 },
 "nbformat": 4,
 "nbformat_minor": 4
}
