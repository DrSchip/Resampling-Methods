{
 "cells": [
  {
   "cell_type": "markdown",
   "metadata": {
    "id": "ZfrQltYNxNuD"
   },
   "source": [
    "# Boostrap implementation to evaluate the CI in the $R^2$ metrics to evaluate the goodness of a fit"
   ]
  },
  {
   "cell_type": "markdown",
   "metadata": {
    "id": "tngh1NoAxL8L"
   },
   "source": [
    "Bootstrapping helps estimate the uncertainty of non-standard estimators.\n",
    "\n",
    "We consider the $R^2$ statistic associated with a regression, which can be derived when we run a simple least squares regression.\n",
    "\n",
    "We want to estimate via bootstrapping the 95% CI for $R^2$.\n",
    "\n",
    "The technique used in this example involves bootstrapping the predictor and response values, and assumes that the predictor variable is random.\n"
   ]
  },
  {
   "cell_type": "markdown",
   "metadata": {
    "id": "xJ2GqsJlyTbF"
   },
   "source": [
    "## Dataset for the regression model"
   ]
  },
  {
   "cell_type": "markdown",
   "metadata": {
    "id": "_SqH1-DnydVg"
   },
   "source": [
    "We read the data in the file \"data_for_regression.csv\" as a DataFrame df with a dependent variable $y$ and two independent variables $x_1$ and $x_2$"
   ]
  },
  {
   "cell_type": "code",
   "execution_count": 2,
   "metadata": {
    "id": "I903W5TT6v_c"
   },
   "outputs": [],
   "source": [
    "import pandas as pd\n",
    "import numpy as np\n",
    "import matplotlib.pyplot as plt"
   ]
  },
  {
   "cell_type": "code",
   "execution_count": 3,
   "metadata": {
    "id": "mI5fz4c1G554"
   },
   "outputs": [],
   "source": [
    "dataset_file = \"../Datasets/data_for_regression.csv\""
   ]
  },
  {
   "cell_type": "code",
   "execution_count": 4,
   "metadata": {
    "id": "aVs4Zzb3HHaK"
   },
   "outputs": [
    {
     "data": {
      "text/html": [
       "<div>\n",
       "<style scoped>\n",
       "    .dataframe tbody tr th:only-of-type {\n",
       "        vertical-align: middle;\n",
       "    }\n",
       "\n",
       "    .dataframe tbody tr th {\n",
       "        vertical-align: top;\n",
       "    }\n",
       "\n",
       "    .dataframe thead th {\n",
       "        text-align: right;\n",
       "    }\n",
       "</style>\n",
       "<table border=\"1\" class=\"dataframe\">\n",
       "  <thead>\n",
       "    <tr style=\"text-align: right;\">\n",
       "      <th></th>\n",
       "      <th>Data</th>\n",
       "      <th>x1</th>\n",
       "      <th>x2</th>\n",
       "      <th>y</th>\n",
       "    </tr>\n",
       "  </thead>\n",
       "  <tbody>\n",
       "    <tr>\n",
       "      <th>0</th>\n",
       "      <td>1</td>\n",
       "      <td>2015</td>\n",
       "      <td>643.09</td>\n",
       "      <td>234314.144</td>\n",
       "    </tr>\n",
       "    <tr>\n",
       "      <th>1</th>\n",
       "      <td>2</td>\n",
       "      <td>2009</td>\n",
       "      <td>656.22</td>\n",
       "      <td>228581.528</td>\n",
       "    </tr>\n",
       "    <tr>\n",
       "      <th>2</th>\n",
       "      <td>3</td>\n",
       "      <td>2018</td>\n",
       "      <td>487.29</td>\n",
       "      <td>281626.336</td>\n",
       "    </tr>\n",
       "    <tr>\n",
       "      <th>3</th>\n",
       "      <td>4</td>\n",
       "      <td>2015</td>\n",
       "      <td>1504.75</td>\n",
       "      <td>401255.608</td>\n",
       "    </tr>\n",
       "    <tr>\n",
       "      <th>4</th>\n",
       "      <td>5</td>\n",
       "      <td>2009</td>\n",
       "      <td>1275.46</td>\n",
       "      <td>458674.256</td>\n",
       "    </tr>\n",
       "  </tbody>\n",
       "</table>\n",
       "</div>"
      ],
      "text/plain": [
       "   Data     x1       x2           y\n",
       "0      1  2015   643.09  234314.144\n",
       "1      2  2009   656.22  228581.528\n",
       "2      3  2018   487.29  281626.336\n",
       "3      4  2015  1504.75  401255.608\n",
       "4      5  2009  1275.46  458674.256"
      ]
     },
     "execution_count": 4,
     "metadata": {},
     "output_type": "execute_result"
    }
   ],
   "source": [
    "df = pd.read_csv(dataset_file)\n",
    "df.head()"
   ]
  },
  {
   "cell_type": "code",
   "execution_count": 5,
   "metadata": {
    "id": "zDafRw68WWcD"
   },
   "outputs": [
    {
     "data": {
      "text/plain": [
       "<matplotlib.collections.PathCollection at 0x7fb8a117b280>"
      ]
     },
     "execution_count": 5,
     "metadata": {},
     "output_type": "execute_result"
    },
    {
     "data": {
      "image/png": "[encoded data removed]",
      "text/plain": [
       "<Figure size 432x288 with 1 Axes>"
      ]
     },
     "metadata": {
      "needs_background": "light"
     },
     "output_type": "display_data"
    }
   ],
   "source": [
    "plt.scatter(df.x2,df.y)"
   ]
  },
  {
   "cell_type": "markdown",
   "metadata": {
    "id": "cGdZ0XNd1G3l"
   },
   "source": [
    "We can fit a linear regression model with `linear_model` of `scikit-learn`  ([doc](https://scikit-learn.org/stable/modules/generated/sklearn.linear_model.LinearRegression.html))"
   ]
  },
  {
   "cell_type": "markdown",
   "metadata": {
    "id": "OXmkL0svM4ki"
   },
   "source": [
    "$Y = C_1x_1 + C_2x_2 + Intercept$"
   ]
  },
  {
   "cell_type": "code",
   "execution_count": 12,
   "metadata": {
    "id": "LTgllMdWwpaQ"
   },
   "outputs": [],
   "source": [
    "# Importing the linear_model module from scikit-learn\n",
    "from sklearn import linear_model\n",
    "\n",
    "# Creating a linear regression model object\n",
    "regr = linear_model.LinearRegression()\n",
    "\n",
    "# df[['x1', 'x2']] selects the features (independent variables) 'x1' and 'x2'\n",
    "# df.y is the target variable (dependent variable) to be predicted\n",
    "regr.fit(df[['x1', 'x2']], df.y)"
   ]
  },
  {
   "cell_type": "code",
   "execution_count": 21,
   "metadata": {
    "id": "n9ckB_YD0va6"
   },
   "outputs": [
    {
     "name": "stdout",
     "output_type": "stream",
     "text": [
      "Coefficients: [3040.35598079  228.35242603] -6021794.754348301\n"
     ]
    }
   ],
   "source": [
    "print(\"Coefficients:\", regr.coef_ , regr.intercept_)"
   ]
  },
  {
   "cell_type": "markdown",
   "metadata": {},
   "source": [
    "- The code imports the necessary linear_model module from scikit-learn.\n",
    "- It creates a linear regression model using the `LinearRegression` class.\n",
    "- The model is then trained (fitted) using the data from the DataFrame `df`, where 'x1' and 'x2' are the features, and 'y' is the target variable."
   ]
  },
  {
   "cell_type": "markdown",
   "metadata": {
    "id": "X-OkaE-Svouo"
   },
   "source": [
    "We can obtain the coefficient of determination $R^2$ with `regr.score(X, y)`.\n",
    "\n",
    "$R^2=1$ is a perfect prediction."
   ]
  },
  {
   "cell_type": "code",
   "execution_count": 23,
   "metadata": {
    "id": "vI6OE_WQhIVH"
   },
   "outputs": [
    {
     "name": "stdout",
     "output_type": "stream",
     "text": [
      "Coefficient of determination: 0.78\n"
     ]
    }
   ],
   "source": [
    "# Printing the coefficient of determination (R²) for the trained linear regression model\n",
    "# The score method is used to calculate the R² on the same data used for training\n",
    "# The result is formatted to display two decimal places in the output\n",
    "print(\"Coefficient of determination: %.2f\" % regr.score(df[['x1', 'x2']], df.y))"
   ]
  },
  {
   "cell_type": "markdown",
   "metadata": {},
   "source": [
    "- The `score` method of the linear regression model (`regr`) is used to calculate the coefficient of determination (R²) on the input data.\n",
    "- The result is then printed to the console with a format that displays it with two decimal places."
   ]
  },
  {
   "cell_type": "markdown",
   "metadata": {
    "id": "40jYeZE43Jw0"
   },
   "source": [
    "## Use bootstrapping to calculate the 95% CI for $R^2$."
   ]
  },
  {
   "cell_type": "markdown",
   "metadata": {
    "id": "Gn4ptxkZw48M"
   },
   "source": [
    "The following step can be implemented to obtain the CI for $R^2$ via bootstrapping:\n",
    "\n",
    "* Draw a bootstrap sample from the original dataset using the `sample()` method of `pandas`.  The number of rows should be the same as that of the original DataFrame.\n",
    "* Fit a regression similar to `regr = linear_model.LinearRegression()` and extract the $R^2$ statistic using the parameter `regr.score`.\n",
    "* Append the  $R^2$ to the list `rsquared_boot`.\n",
    "* Calculate 95% CI for `rsquared_boot` as `R2_95_ci` using `np.percentile()`."
   ]
  },
  {
   "cell_type": "markdown",
   "metadata": {
    "id": "MVBSwruCXtEs"
   },
   "source": [
    "We create a bootstrap sample  with replacement of R$^2$ fit parameters, by running n_boot = 1000 fits:"
   ]
  },
  {
   "cell_type": "code",
   "execution_count": 37,
   "metadata": {
    "id": "ZlxyCxwq5CSY"
   },
   "outputs": [],
   "source": [
    "# Creating a linear regression model object\n",
    "regr = linear_model.LinearRegression()\n",
    "\n",
    "# Initializing empty lists to store R² values, coefficients, and the number of bootstrap iterations\n",
    "R2_boot, n_boots = [], 1000\n",
    "\n",
    "# Looping through the specified number of bootstrap iterations\n",
    "for i in range(n_boots):\n",
    "    # Creating a bootstrap sample with replacement by randomly selecting rows from the DataFrame\n",
    "    # frac=1 means sampling all rows, and replace=True enables sampling with replacement\n",
    "    bootstrap = df.sample(frac=1, replace=True)\n",
    "\n",
    "    # Fitting the linear regression model to the bootstrap sample\n",
    "    regr.fit(bootstrap[['x1', 'x2']], bootstrap.y)\n",
    "    \n",
    "    # Calculating and appending the R² value for the bootstrap sample\n",
    "    R2_boot.append(regr.score(bootstrap[['x1', 'x2']], bootstrap.y))"
   ]
  },
  {
   "cell_type": "markdown",
   "metadata": {},
   "source": [
    "- The code initializes a linear regression model (`regr`).\n",
    "- It sets the number of bootstrap iterations to 1000.\n",
    "- In each iteration, it creates a bootstrap sample by randomly selecting rows from the DataFrame (`df`) with replacement.\n",
    "- The linear regression model is fitted to the bootstrap sample, and the R² value is calculated and appended to the `R2_boot` list.\n",
    "\n",
    "This code will estimate the distribution of the coefficient of determination (R²) for the linear regression model through bootstrap resampling."
   ]
  },
  {
   "cell_type": "markdown",
   "metadata": {
    "id": "8YTr8ag2aWXv"
   },
   "source": [
    "Plot the distribution of `rsquared_boot`"
   ]
  },
  {
   "cell_type": "code",
   "execution_count": 34,
   "metadata": {
    "id": "xp1b6memabK2"
   },
   "outputs": [
    {
     "data": {
      "image/png": "[encoded data removed]",
      "text/plain": [
       "<Figure size 432x288 with 1 Axes>"
      ]
     },
     "metadata": {
      "needs_background": "light"
     },
     "output_type": "display_data"
    }
   ],
   "source": [
    "_ = plt.hist(R2_boot, 25, histtype='step')"
   ]
  },
  {
   "cell_type": "markdown",
   "metadata": {
    "id": "DeFVdUpvaUjI"
   },
   "source": [
    "Calculate 95% CI of $R^2$, with `np.percentile`"
   ]
  },
  {
   "cell_type": "code",
   "execution_count": 38,
   "metadata": {
    "id": "0mN1gGhQaUBx"
   },
   "outputs": [
    {
     "name": "stdout",
     "output_type": "stream",
     "text": [
      "R Squared 95% CI = [0.71214485 0.83723574]\n"
     ]
    }
   ],
   "source": [
    "# Calculating the 95% confidence interval for R² using percentiles from the bootstrapped R² values\n",
    "R2_95_ci = np.percentile(R2_boot, [2.5, 97.5])\n",
    "\n",
    "# Printing the result\n",
    "print(\"R Squared 95% CI = {}\".format(R2_95_ci))"
   ]
  },
  {
   "cell_type": "code",
   "execution_count": 39,
   "metadata": {
    "id": "NGgSBXiI1cnu"
   },
   "outputs": [
    {
     "data": {
      "image/png": "[encoded data removed]",
      "text/plain": [
       "<Figure size 432x288 with 1 Axes>"
      ]
     },
     "metadata": {
      "needs_background": "light"
     },
     "output_type": "display_data"
    }
   ],
   "source": [
    "# Importing the matplotlib.pyplot library\n",
    "import matplotlib.pyplot as plt\n",
    "\n",
    "# Creating a histogram of the bootstrapped R² values with 25 bins and 'step' type\n",
    "_ = plt.hist(R2_boot, 25, histtype='step')\n",
    "\n",
    "# Adding vertical dashed lines to represent the 95% confidence interval\n",
    "_ = plt.axvline(R2_95_ci[0], linestyle='--', color='red')  # Lower bound of the 95% CI\n",
    "_ = plt.axvline(R2_95_ci[1], linestyle='--', color='red')  # Upper bound of the 95% CI\n",
    "\n",
    "# Displaying the plot\n",
    "plt.show()"
   ]
  },
  {
   "cell_type": "markdown",
   "metadata": {},
   "source": [
    "- The code uses `matplotlib.pyplot` to create a histogram of the bootstrapped R² values with 25 bins and a 'step' type.\n",
    "- Two vertical dashed lines are added using `axvline` to represent the lower and upper bounds of the 95% confidence interval in red.\n",
    "- The `plt.show()` command is used to display the plot.\n",
    "\n",
    "This visualization allows you to see the distribution of the bootstrapped R² values and visually inspect the 95% confidence interval. The red dashed lines indicate the range within which you have 95% confidence that the true R² value lies."
   ]
  }
 ],
 "metadata": {
  "colab": {
   "provenance": []
  },
  "kernelspec": {
   "display_name": "Python 3 (ipykernel)",
   "language": "python",
   "name": "python3"
  },
  "language_info": {
   "codemirror_mode": {
    "name": "ipython",
    "version": 3
   },
   "file_extension": ".py",
   "mimetype": "text/x-python",
   "name": "python",
   "nbconvert_exporter": "python",
   "pygments_lexer": "ipython3",
   "version": "3.10.12"
  }
 },
 "nbformat": 4,
 "nbformat_minor": 4
}
