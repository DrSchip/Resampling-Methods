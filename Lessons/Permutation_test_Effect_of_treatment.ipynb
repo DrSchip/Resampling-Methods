{
 "cells": [
  {
   "cell_type": "markdown",
   "metadata": {
    "id": "G0b9QUYdY-lr"
   },
   "source": [
    "# Typical application of a permutation test: evaluation of the effect of a treatment"
   ]
  },
  {
   "cell_type": "markdown",
   "metadata": {
    "id": "CwfnhfvS8sij"
   },
   "source": [
    "A permutation test is a type of non-parametric randomization test in which the null distribution\n",
    "of a test statistic is estimated by randomly permuting the observations.\n"
   ]
  },
  {
   "cell_type": "markdown",
   "metadata": {
    "id": "2MZ9dVf98zwy"
   },
   "source": [
    "Permutation tests are highly attractive because they make no assumptions other than that the\n",
    "observations are independent and identically distributed under the null hypothesis.\n",
    "\n",
    "The main step to carry out to conduct a permutation test are the following:\n",
    "1. Compute an observed statistic $t_{obs}$ on the data.\n",
    "2. Use randomization to compute the distribution of $t$ under the null hypothesis:\n",
    ">* Perform $N$ random permutations of the data.\n",
    ">* For each sample of permuted data, $i$, compute\n",
    "the statistic $t_i$.\n",
    ">* This procedure provides the distribution of $t$ under the null hypothesis$H_0$.\n",
    "3. Compute the p-value as\n",
    "$p = 𝑃(𝑡 > 𝑡_{𝑜𝑏𝑠} |𝐻_0) |\\{𝑡_𝑖 > 𝑡_{𝑜𝑏𝑠}\\}|$\n",
    "where the $t_i$ values include $𝑡_{𝑜𝑏𝑠}$."
   ]
  },
  {
   "cell_type": "markdown",
   "metadata": {
    "id": "H0lT9nB8A49Z"
   },
   "source": [
    "# Evaluation of the effect of a treatment\n"
   ]
  },
  {
   "cell_type": "markdown",
   "metadata": {
    "id": "ZyBGV-uqc7Hy"
   },
   "source": [
    "To compare two teaching methods or the effect of a drug or a treatment typically two samples are considered, one undergone the treatment and the other one not.\n",
    "\n",
    "A typical example can be formulated as follows."
   ]
  },
  {
   "cell_type": "markdown",
   "metadata": {
    "id": "kAPBJoLZBwaf"
   },
   "source": [
    "We have two groups of subjects, with 10 subjects for each group. The first (group A) has undergone a diet program A (Diet_A), whereas the second one (group B) to a different diet program (Diet_B).   \n",
    "\n",
    "To test whether Diet_B is more effective than Diet_A, the difference in weight (Delta_weight_i) is recoded for each subject.  \n",
    "\n",
    "\n",
    "\n",
    "\n"
   ]
  },
  {
   "cell_type": "markdown",
   "metadata": {
    "id": "z9EYPheDBcVl"
   },
   "source": [
    "Let us suppose that we have a situation in which none of the standard mathematical statistical approximations apply. We have computed a test statistic, such as the difference in mean Delta_weight, but do not have a useful approximation, such as that provided by the Central Limit Theorem.\n",
    "\n",
    "Permutation tests can be useful in these scenarios."
   ]
  },
  {
   "cell_type": "markdown",
   "metadata": {
    "id": "wcV_L_8EcjRq"
   },
   "source": [
    "# Test a summary statistic: the difference between the mean weight loss"
   ]
  },
  {
   "cell_type": "markdown",
   "metadata": {
    "id": "WZsl1wSVc_8D"
   },
   "source": [
    "We have identified a sample statistic to test the effect of Diet_A vs. Diet_B, which is the difference between the sample means of weight loss.\n",
    "\n",
    "The weight difference (in kg) is recorded for each participant after 2 weeks of diet.\n"
   ]
  },
  {
   "cell_type": "code",
   "execution_count": 2,
   "metadata": {
    "id": "2FBtCa48E005"
   },
   "outputs": [],
   "source": [
    "import numpy as np\n",
    "import matplotlib.pyplot as plt"
   ]
  },
  {
   "cell_type": "code",
   "execution_count": null,
   "metadata": {
    "id": "NARI_SrqE97x"
   },
   "outputs": [],
   "source": [
    "#we can use the following line to simulate an array of values:\n",
    "#np.random.normal(-1.6, 1, size=10) #"
   ]
  },
  {
   "cell_type": "code",
   "execution_count": 3,
   "metadata": {
    "id": "KSDo5cvvA33L"
   },
   "outputs": [],
   "source": [
    "Delta_weight_A= np.array([-1.13,  0.73, -1.23,  0.37, -0.58, -0.76, -2.49, -1.77, -2.84, 1.43])\n",
    "Delta_weight_B= np.array([-0.56, -1.85, -1.17, -0.17, -1.89, -0.68, -1.44, -2.77, -0.79,-2.15])"
   ]
  },
  {
   "cell_type": "markdown",
   "metadata": {
    "id": "DYKP0Dtyf-yG"
   },
   "source": [
    "We can visualize the data"
   ]
  },
  {
   "cell_type": "code",
   "execution_count": 39,
   "metadata": {
    "id": "rs1FtmH_FlBo"
   },
   "outputs": [
    {
     "data": {
      "text/plain": [
       "(array([1., 0., 1., 2., 0., 1., 1., 1., 2., 1.]),\n",
       " array([-2.77, -2.51, -2.25, -1.99, -1.73, -1.47, -1.21, -0.95, -0.69,\n",
       "        -0.43, -0.17]),\n",
       " <BarContainer object of 10 artists>)"
      ]
     },
     "execution_count": 39,
     "metadata": {},
     "output_type": "execute_result"
    },
    {
     "data": {
      "image/png": "[encoded data removed]",
      "text/plain": [
       "<Figure size 432x288 with 1 Axes>"
      ]
     },
     "metadata": {
      "needs_background": "light"
     },
     "output_type": "display_data"
    }
   ],
   "source": [
    "plt.hist(Delta_weight_A, bins=10)\n",
    "plt.hist(Delta_weight_B, bins=10)"
   ]
  },
  {
   "cell_type": "markdown",
   "metadata": {
    "id": "TmklZS_NfEko"
   },
   "source": [
    "We observed the values above for each individual of the two group. We compute the mean weight differences for groups A and B, which suggests that Diet_B is more effective."
   ]
  },
  {
   "cell_type": "code",
   "execution_count": 38,
   "metadata": {
    "id": "sOoLDo93gAI3"
   },
   "outputs": [
    {
     "data": {
      "text/plain": [
       "[-0.827, -1.347]"
      ]
     },
     "execution_count": 38,
     "metadata": {},
     "output_type": "execute_result"
    }
   ],
   "source": [
    "[Delta_weight_A.mean(), Delta_weight_B.mean()]"
   ]
  },
  {
   "cell_type": "markdown",
   "metadata": {
    "id": "_kQz_fzHECR-"
   },
   "source": [
    "A difference is observed in the mean values of weigth differences between the two groups."
   ]
  },
  {
   "cell_type": "code",
   "execution_count": 37,
   "metadata": {
    "id": "CbXzunI3GWvc"
   },
   "outputs": [
    {
     "name": "stdout",
     "output_type": "stream",
     "text": [
      "The average weight loss in group A is = -0.83 kg\n",
      "The average weight loss in group B is = -1.35 kg\n",
      "The difference between the mean values is =  0.52 kg\n"
     ]
    }
   ],
   "source": [
    "print(f'The average weight loss in group A is = {Delta_weight_A.mean() : .2f} kg')\n",
    "print(f'The average weight loss in group B is = {Delta_weight_B.mean() : .2f} kg')\n",
    "Avg_obs_diff = Delta_weight_A.mean() - Delta_weight_B.mean()\n",
    "print(f'The difference between the mean values is = {Avg_obs_diff: .2f} kg')"
   ]
  },
  {
   "cell_type": "markdown",
   "metadata": {
    "id": "Tn3V_x5vH4nY"
   },
   "source": [
    "Is that difference in mean statistically significant?"
   ]
  },
  {
   "cell_type": "markdown",
   "metadata": {
    "id": "WsIdd8YUXCNp"
   },
   "source": [
    "Permutation tests take advantage of the fact that if we randomly shuffle the group labels (group A and group B in our case), the resulting distribution of the statistic we consider approximates the null distribution.\n",
    "\n",
    "The null hypothesis is that the Diet_B is not more effective than Diet_A.\n",
    "\n",
    "The null distribution can be generated by shuffling the data 1000 times:"
   ]
  },
  {
   "cell_type": "code",
   "execution_count": 40,
   "metadata": {
    "id": "LN7x59LhGME5"
   },
   "outputs": [],
   "source": [
    "n_perm = 1000"
   ]
  },
  {
   "cell_type": "markdown",
   "metadata": {
    "id": "THyxjFdciCtJ"
   },
   "source": [
    "We count the total number of subjects that we have"
   ]
  },
  {
   "cell_type": "code",
   "execution_count": 41,
   "metadata": {
    "id": "9CxMGIi5YERO"
   },
   "outputs": [
    {
     "name": "stdout",
     "output_type": "stream",
     "text": [
      "20\n"
     ]
    }
   ],
   "source": [
    "n_examples=Delta_weight_A.shape[0]+Delta_weight_B.shape[0]\n",
    "print(n_examples)"
   ]
  },
  {
   "cell_type": "markdown",
   "metadata": {
    "id": "9KxurNmviH5P"
   },
   "source": [
    "and we put all examples in a same array"
   ]
  },
  {
   "cell_type": "code",
   "execution_count": 42,
   "metadata": {
    "id": "KdseLcxMrcbF"
   },
   "outputs": [
    {
     "data": {
      "text/plain": [
       "array([-1.13,  0.73, -1.23,  0.37, -0.58, -0.76, -2.49, -1.77, -2.84,\n",
       "        1.43, -0.56, -1.85, -1.17, -0.17, -1.89, -0.68, -1.44, -2.77,\n",
       "       -0.79, -2.15])"
      ]
     },
     "execution_count": 42,
     "metadata": {},
     "output_type": "execute_result"
    }
   ],
   "source": [
    "Delta_weight_all = np.append(Delta_weight_A, Delta_weight_B)\n",
    "Delta_weight_all"
   ]
  },
  {
   "cell_type": "markdown",
   "metadata": {
    "id": "5hfB2PCFiR4_"
   },
   "source": [
    "We compute the test statistic \"difference in mean\" between Group A and Group B by randomly permuting the group labels.\n",
    "This is achieved very simply, by reshuflfing many times (`n_perm`) the array with all examples, and assigning the first one half to  Group A and the second half to  Group B, and computing the mean."
   ]
  },
  {
   "cell_type": "code",
   "execution_count": 45,
   "metadata": {
    "id": "P07u5Zctfujl"
   },
   "outputs": [
    {
     "data": {
      "text/plain": [
       "(1000,)"
      ]
     },
     "execution_count": 45,
     "metadata": {},
     "output_type": "execute_result"
    }
   ],
   "source": [
    "Avg_diff_perm = []\n",
    "for i in range(n_perm):\n",
    "    perm_i = np.random.permutation(Delta_weight_all)\n",
    "    avg_A = perm_i[0:Delta_weight_A.shape[0]].mean()\n",
    "    avg_B = perm_i[Delta_weight_A.shape[0]:n_examples].mean()\n",
    "    Avg_diff_perm = np.append(Avg_diff_perm, avg_A - avg_B)\n",
    "Avg_diff_perm.shape"
   ]
  },
  {
   "cell_type": "markdown",
   "metadata": {
    "id": "KKjlhUtYjRrV"
   },
   "source": [
    "We obtained an array with the  differences between the means of the weight differences of the two groups under the null hypothesis."
   ]
  },
  {
   "cell_type": "code",
   "execution_count": 46,
   "metadata": {
    "id": "BMmGQ2pwj0fT"
   },
   "outputs": [
    {
     "data": {
      "text/plain": [
       "numpy.ndarray"
      ]
     },
     "execution_count": 46,
     "metadata": {},
     "output_type": "execute_result"
    }
   ],
   "source": [
    "type(Avg_diff_perm)"
   ]
  },
  {
   "cell_type": "markdown",
   "metadata": {
    "id": "wy9uuisyjmNl"
   },
   "source": [
    "We can plot the histogram"
   ]
  },
  {
   "cell_type": "code",
   "execution_count": 50,
   "metadata": {
    "id": "BFKQrXGMfI87"
   },
   "outputs": [
    {
     "data": {
      "text/plain": [
       "(array([  2.,   2.,   4.,  14.,  21.,  25.,  39.,  57.,  68.,  82.,  93.,\n",
       "         92., 105.,  81.,  79.,  66.,  43.,  37.,  37.,  30.,  12.,   5.,\n",
       "          3.,   0.,   3.]),\n",
       " array([-1.536  , -1.40992, -1.28384, -1.15776, -1.03168, -0.9056 ,\n",
       "        -0.77952, -0.65344, -0.52736, -0.40128, -0.2752 , -0.14912,\n",
       "        -0.02304,  0.10304,  0.22912,  0.3552 ,  0.48128,  0.60736,\n",
       "         0.73344,  0.85952,  0.9856 ,  1.11168,  1.23776,  1.36384,\n",
       "         1.48992,  1.616  ]),\n",
       " [<matplotlib.patches.Polygon at 0x7f5642f73a90>])"
      ]
     },
     "execution_count": 50,
     "metadata": {},
     "output_type": "execute_result"
    },
    {
     "data": {
      "image/png": "[encoded data removed]",
      "text/plain": [
       "<Figure size 432x288 with 1 Axes>"
      ]
     },
     "metadata": {
      "needs_background": "light"
     },
     "output_type": "display_data"
    }
   ],
   "source": [
    "plt.hist(Avg_diff_perm, 25, histtype='step')"
   ]
  },
  {
   "cell_type": "markdown",
   "metadata": {
    "id": "pjdhvo11mJ5Q"
   },
   "source": [
    "We add to the histogram a vertical red line indicating the measured difference in mean between the A and B groups (i.e. the difference in the mean values obtained with the correct group labels)"
   ]
  },
  {
   "cell_type": "code",
   "execution_count": 51,
   "metadata": {
    "id": "zofejNLmKW87"
   },
   "outputs": [
    {
     "data": {
      "text/plain": [
       "<matplotlib.lines.Line2D at 0x7f56433c01f0>"
      ]
     },
     "execution_count": 51,
     "metadata": {},
     "output_type": "execute_result"
    },
    {
     "data": {
      "image/png": "[encoded data removed]",
      "text/plain": [
       "<Figure size 432x288 with 1 Axes>"
      ]
     },
     "metadata": {
      "needs_background": "light"
     },
     "output_type": "display_data"
    }
   ],
   "source": [
    "plt.hist(Avg_diff_perm, 25, histtype='step')\n",
    "plt.axvline(Avg_obs_diff, linestyle='--', color='red')"
   ]
  },
  {
   "cell_type": "markdown",
   "metadata": {
    "id": "AgU9CyXHkttV"
   },
   "source": [
    "## Evaluation of the empirical $p$-value\n",
    "\n",
    "How many of the null means are bigger than the observed value? That proportion would be the $p$-value for the null hypothesis.\n",
    "\n",
    "$p = \\frac{r+1}{N+1}$\n",
    "\n",
    "where $N$ is the number of permutations and r is the number of times that $t_i > t_{obs}$\n",
    "\n",
    "We add a 1 to the numerator and denominator to account for misestimation of the p-value (see the reference \"Permutation p-values should never be zero: calculating exact P-values when permutations are randomly drawn\" https://pubmed.ncbi.nlm.nih.gov/21044043/ )\n"
   ]
  },
  {
   "cell_type": "code",
   "execution_count": 52,
   "metadata": {
    "id": "0fkG3qE7SFa9"
   },
   "outputs": [
    {
     "data": {
      "text/plain": [
       "156"
      ]
     },
     "execution_count": 52,
     "metadata": {},
     "output_type": "execute_result"
    }
   ],
   "source": [
    "Avg_diff_perm[Avg_diff_perm > Avg_obs_diff].shape[0]"
   ]
  },
  {
   "cell_type": "code",
   "execution_count": 56,
   "metadata": {
    "id": "ymLR0ri1k43Y"
   },
   "outputs": [
    {
     "name": "stdout",
     "output_type": "stream",
     "text": [
      "The p value is p = 0.157\n",
      "The null hypothesis cannot be rejected\n"
     ]
    }
   ],
   "source": [
    "p_value = (Avg_diff_perm[Avg_diff_perm > Avg_obs_diff].shape[0] + 1 )/ (n_perm +1)\n",
    "print(f'The p value is p = {p_value:.3f}')\n",
    "if p_value < 0.05:\n",
    "  print('The difference between the mean weight loss of the two groups is statistically significant! ')\n",
    "else:\n",
    "  print('The null hypothesis cannot be rejected')"
   ]
  },
  {
   "cell_type": "markdown",
   "metadata": {
    "id": "Q0r_r4Fgok1r"
   },
   "source": [
    "We can conclude that the Diet_B is not more effective that Diet_A."
   ]
  },
  {
   "cell_type": "markdown",
   "metadata": {
    "id": "NYmFtb_P7VMV"
   },
   "source": [
    "# Test an arbitrary statistic: e.g. the 90th percentile"
   ]
  },
  {
   "cell_type": "markdown",
   "metadata": {
    "id": "5JnzfpZoBT6N"
   },
   "source": [
    "If we think that an appropriate test statistic for this problem is the difference between the 90th percentile, and if we knew the null distribution of this statistic, we could test for the null hypothesis that the statistic = 0. Permuting the labels of the 2 data sets allows us to create the empirical null distribution."
   ]
  },
  {
   "cell_type": "markdown",
   "metadata": {
    "id": "cDOEnirAG66_"
   },
   "source": [
    "Let us suppose that we want to test whether the effect of Diet_A and Diet_B differ, regardless which possibly outperforms the other one. We have to carry out a two-tail test."
   ]
  },
  {
   "cell_type": "markdown",
   "metadata": {
    "id": "tQfNfmrP7tDM"
   },
   "source": [
    "The procedure is the same as above, a slightly different code is proposed, where several permutations of the indices of the joint sample elements are computed, then data are assigned to either group A of group B and the test statistic is computed for all permutations.   "
   ]
  },
  {
   "cell_type": "markdown",
   "metadata": {
    "id": "g76bYffc3Vaf"
   },
   "source": [
    "The `map()` function applies a given function to each item of an iterable (list, tuple etc.) and returns an iterator."
   ]
  },
  {
   "cell_type": "code",
   "execution_count": null,
   "metadata": {
    "id": "78P0C6mvXgtm"
   },
   "outputs": [],
   "source": [
    "n1 = len(Delta_weight_A)"
   ]
  },
  {
   "cell_type": "code",
   "execution_count": null,
   "metadata": {
    "id": "PzygHZATBY4I"
   },
   "outputs": [],
   "source": [
    "n1, n2 = map(len, (Delta_weight_A, Delta_weight_B))\n",
    "n_perm = 1000\n",
    "data = np.concatenate([Delta_weight_A, Delta_weight_B])\n",
    "ps = np.array([np.random.permutation(n1+n2) for i in range(n_perm)])"
   ]
  },
  {
   "cell_type": "code",
   "execution_count": null,
   "metadata": {
    "id": "_KqAMhwf3vw3"
   },
   "outputs": [],
   "source": [
    "ps.shape"
   ]
  },
  {
   "cell_type": "markdown",
   "metadata": {
    "id": "1sEbpnwsN46o"
   },
   "source": [
    "We can visualize the data with  [matplotlib.pyplot.imshow](https://matplotlib.org/stable/api/_as_gen/matplotlib.pyplot.imshow.html)"
   ]
  },
  {
   "cell_type": "code",
   "execution_count": null,
   "metadata": {
    "id": "aEF0R5eDMTaw"
   },
   "outputs": [],
   "source": [
    "plt.imshow(ps[:100])"
   ]
  },
  {
   "cell_type": "code",
   "execution_count": null,
   "metadata": {
    "id": "MT7EN8qQBafi"
   },
   "outputs": [],
   "source": [
    "Ap = data[ps[:, :n1]]\n",
    "Bp = data[ps[:, n1:]]\n",
    "samples = np.percentile(Ap, 90, axis=1) - np.percentile(Bp, 90, axis=1)"
   ]
  },
  {
   "cell_type": "code",
   "execution_count": null,
   "metadata": {
    "id": "a5A_N6n_8HdX"
   },
   "outputs": [],
   "source": [
    "_ = plt.hist(samples, 25, histtype='step')"
   ]
  },
  {
   "cell_type": "code",
   "execution_count": null,
   "metadata": {
    "id": "HExhEr0dBcJX"
   },
   "outputs": [],
   "source": [
    "plt.hist(samples, 25, histtype='step')\n",
    "test_stat = np.percentile(Delta_weight_A, 90) - np.percentile(Delta_weight_B, 90)\n",
    "plt.axvline(test_stat, linestyle='--', color='red')\n",
    "plt.axvline(np.percentile(samples, 2.5), linestyle='--')\n",
    "plt.axvline(np.percentile(samples, 97.5), linestyle='--')\n",
    "if test_stat>0:\n",
    "  print(f\"p-value ={ 2*(np.sum(samples > test_stat)+1)/(n_perm+1) : .2f}\")\n",
    "else:\n",
    "  print(f\"p-value ={ 2*(np.sum(samples < test_stat)+1)/(n_perm+1) : .2f}\")"
   ]
  }
 ],
 "metadata": {
  "colab": {
   "provenance": []
  },
  "kernelspec": {
   "display_name": "Python 3 (ipykernel)",
   "language": "python",
   "name": "python3"
  },
  "language_info": {
   "codemirror_mode": {
    "name": "ipython",
    "version": 3
   },
   "file_extension": ".py",
   "mimetype": "text/x-python",
   "name": "python",
   "nbconvert_exporter": "python",
   "pygments_lexer": "ipython3",
   "version": "3.10.12"
  }
 },
 "nbformat": 4,
 "nbformat_minor": 4
}
