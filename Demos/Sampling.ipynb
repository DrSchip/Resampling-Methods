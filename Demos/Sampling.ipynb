{
 "cells": [
  {
   "cell_type": "markdown",
   "metadata": {
    "id": "RE57Dyi6njf2"
   },
   "source": [
    "# **Sampling with and without replacement** #\n",
    "\n",
    "\n"
   ]
  },
  {
   "cell_type": "markdown",
   "metadata": {
    "id": "7jmwQoGjITRB"
   },
   "source": [
    "When we have to extract a random sample from a population (larger dataset) we can use:\n",
    "* the random sampling routines of Numpy, `numpy.random`  [[doc]](https://numpy.org/doc/stable/reference/random/index.html),\n",
    "* or the `pd.DataFrame.sample` [[doc]](https://pandas.pydata.org/docs/reference/api/pandas.DataFrame.sample.html) of Pandas,\n",
    "* or the scikit-learn `sklearn.utils.resample`\n",
    "[[doc]](https://scikit-learn.org/stable/modules/generated/sklearn.utils.resample.html).\n",
    "\n",
    "`NumPy` is the fundamental package for scientific computing in Python. It is a Python library that provides a multidimensional array object, various derived objects, and an assortment of routines for fast operations on arrays.\n",
    "\n",
    "`Pandas` is an open source library providing high-performance, easy-to-use data structures and data analysis tools for the Python programming language.\n",
    "\n",
    "`Scikit-learn` is an open source machine learning library.\n",
    "\n"
   ]
  },
  {
   "cell_type": "markdown",
   "metadata": {
    "id": "nE3qk1lbLxdo"
   },
   "source": [
    "**Setting a random seed**"
   ]
  },
  {
   "cell_type": "markdown",
   "metadata": {
    "id": "lYXrAKdINJft"
   },
   "source": [
    "The random draw functions only mimic random processes. These\n",
    "algorithms are actually complex deterministic processes that generate very\n",
    "long strings of pseudorandom numbers.\n",
    "\n",
    "We can control the numbers that the random number generator\n",
    "produce by setting a “seed”.\n",
    "It means that every time you reset the seed to the same\n",
    "value, the same string of “random” numbers will result.\n",
    "\n",
    "It is useful in the code developing phase to check for reproducibility of the results."
   ]
  },
  {
   "cell_type": "markdown",
   "metadata": {
    "id": "vvHbGXNVJgF5"
   },
   "source": [
    "## Numpy np.random.choice ##"
   ]
  },
  {
   "cell_type": "code",
   "execution_count": 1,
   "metadata": {
    "executionInfo": {
     "elapsed": 5,
     "status": "ok",
     "timestamp": 1698065661979,
     "user": {
      "displayName": "Alessandra Retico",
      "userId": "14532676711952981925"
     },
     "user_tz": -120
    },
    "id": "1BKvfHEbngWK"
   },
   "outputs": [],
   "source": [
    "import numpy as np"
   ]
  },
  {
   "cell_type": "code",
   "execution_count": 2,
   "metadata": {
    "executionInfo": {
     "elapsed": 238,
     "status": "ok",
     "timestamp": 1698065859190,
     "user": {
      "displayName": "Alessandra Retico",
      "userId": "14532676711952981925"
     },
     "user_tz": -120
    },
    "id": "Q8oKdP18LyYW"
   },
   "outputs": [],
   "source": [
    "np.random.seed(13)"
   ]
  },
  {
   "cell_type": "markdown",
   "metadata": {
    "id": "y0cddEwqzrgj"
   },
   "source": [
    "The `np.random.choice` generates a random sample from a given 1-D array."
   ]
  },
  {
   "cell_type": "markdown",
   "metadata": {
    "id": "XS0876yF0G1T"
   },
   "source": [
    "It implements sampling with replacement by default\n",
    "\n",
    "`np.random.choice(a, size=None, replace=True, p=None)`"
   ]
  },
  {
   "cell_type": "code",
   "execution_count": 3,
   "metadata": {
    "colab": {
     "base_uri": "https://localhost:8080/"
    },
    "executionInfo": {
     "elapsed": 274,
     "status": "ok",
     "timestamp": 1698065765686,
     "user": {
      "displayName": "Alessandra Retico",
      "userId": "14532676711952981925"
     },
     "user_tz": -120
    },
    "id": "KGBhAYR8AM4A",
    "outputId": "92918cea-5feb-491c-9aec-01d13555aa29"
   },
   "outputs": [
    {
     "data": {
      "text/plain": [
       "[27, 34, 45, 63, 73, 88]"
      ]
     },
     "execution_count": 3,
     "metadata": {},
     "output_type": "execute_result"
    }
   ],
   "source": [
    "a = [ 27, 34, 45, 63, 73, 88]\n",
    "a"
   ]
  },
  {
   "cell_type": "code",
   "execution_count": 4,
   "metadata": {
    "colab": {
     "base_uri": "https://localhost:8080/"
    },
    "executionInfo": {
     "elapsed": 309,
     "status": "ok",
     "timestamp": 1698065869774,
     "user": {
      "displayName": "Alessandra Retico",
      "userId": "14532676711952981925"
     },
     "user_tz": -120
    },
    "id": "kEZSem2gAQi7",
    "outputId": "dd638c00-b272-4b28-d89a-ecb29d2f9bae"
   },
   "outputs": [
    {
     "data": {
      "text/plain": [
       "45"
      ]
     },
     "execution_count": 4,
     "metadata": {},
     "output_type": "execute_result"
    }
   ],
   "source": [
    "np.random.choice(a)"
   ]
  },
  {
   "cell_type": "code",
   "execution_count": null,
   "metadata": {
    "colab": {
     "base_uri": "https://localhost:8080/"
    },
    "executionInfo": {
     "elapsed": 2,
     "status": "ok",
     "timestamp": 1698065983714,
     "user": {
      "displayName": "Alessandra Retico",
      "userId": "14532676711952981925"
     },
     "user_tz": -120
    },
    "id": "fPwsk61YAWf8",
    "outputId": "03830efc-3b9b-41a4-8ed7-920fe3b291df"
   },
   "outputs": [],
   "source": [
    "np.random.choice(a, 3, replace = False)"
   ]
  },
  {
   "cell_type": "code",
   "execution_count": null,
   "metadata": {
    "colab": {
     "base_uri": "https://localhost:8080/"
    },
    "executionInfo": {
     "elapsed": 288,
     "status": "ok",
     "timestamp": 1698066017135,
     "user": {
      "displayName": "Alessandra Retico",
      "userId": "14532676711952981925"
     },
     "user_tz": -120
    },
    "id": "DyA4sNwN19L3",
    "outputId": "993897c9-15f5-4560-c95c-b125983eaea3"
   },
   "outputs": [],
   "source": [
    "np.random.choice(10)"
   ]
  },
  {
   "cell_type": "code",
   "execution_count": null,
   "metadata": {
    "colab": {
     "base_uri": "https://localhost:8080/"
    },
    "executionInfo": {
     "elapsed": 258,
     "status": "ok",
     "timestamp": 1698066028389,
     "user": {
      "displayName": "Alessandra Retico",
      "userId": "14532676711952981925"
     },
     "user_tz": -120
    },
    "id": "5o__81qc3KP6",
    "outputId": "e6a9fc20-8d92-4dd5-afc2-c6bdc1f259fe"
   },
   "outputs": [],
   "source": [
    "np.arange(30,35)"
   ]
  },
  {
   "cell_type": "code",
   "execution_count": null,
   "metadata": {
    "colab": {
     "base_uri": "https://localhost:8080/"
    },
    "executionInfo": {
     "elapsed": 220,
     "status": "ok",
     "timestamp": 1698066078655,
     "user": {
      "displayName": "Alessandra Retico",
      "userId": "14532676711952981925"
     },
     "user_tz": -120
    },
    "id": "bDNeGOqr2EDt",
    "outputId": "62358725-ee8c-4d18-d089-d424308fefbd"
   },
   "outputs": [],
   "source": [
    "np.random.choice(np.arange(30,35))"
   ]
  },
  {
   "cell_type": "code",
   "execution_count": null,
   "metadata": {
    "colab": {
     "base_uri": "https://localhost:8080/"
    },
    "executionInfo": {
     "elapsed": 219,
     "status": "ok",
     "timestamp": 1698066088675,
     "user": {
      "displayName": "Alessandra Retico",
      "userId": "14532676711952981925"
     },
     "user_tz": -120
    },
    "id": "by2whUpX08n5",
    "outputId": "acc3719e-1793-4d91-d314-e77ddc877e7b"
   },
   "outputs": [],
   "source": [
    "np.random.choice(np.arange(3,15), 10)"
   ]
  },
  {
   "cell_type": "code",
   "execution_count": null,
   "metadata": {
    "colab": {
     "base_uri": "https://localhost:8080/"
    },
    "executionInfo": {
     "elapsed": 359,
     "status": "ok",
     "timestamp": 1698066130140,
     "user": {
      "displayName": "Alessandra Retico",
      "userId": "14532676711952981925"
     },
     "user_tz": -120
    },
    "id": "s8IfZUDpnoER",
    "outputId": "d888850d-66a0-4d11-8530-1922cf8e9ce9"
   },
   "outputs": [],
   "source": [
    "np.random.choice(4, 12)"
   ]
  },
  {
   "cell_type": "markdown",
   "metadata": {
    "id": "yaGH2bzb2N5U"
   },
   "source": [
    "Probability weights can be given"
   ]
  },
  {
   "cell_type": "code",
   "execution_count": null,
   "metadata": {
    "colab": {
     "base_uri": "https://localhost:8080/"
    },
    "executionInfo": {
     "elapsed": 234,
     "status": "ok",
     "timestamp": 1698066226237,
     "user": {
      "displayName": "Alessandra Retico",
      "userId": "14532676711952981925"
     },
     "user_tz": -120
    },
    "id": "-pQOV8-Ln5tu",
    "outputId": "c5262348-bd8b-4ae8-9cf5-0da599c94150"
   },
   "outputs": [],
   "source": [
    "np.random.choice(4, 12, p=[.4, .1, .1, .4])"
   ]
  },
  {
   "cell_type": "code",
   "execution_count": null,
   "metadata": {
    "colab": {
     "base_uri": "https://localhost:8080/"
    },
    "executionInfo": {
     "elapsed": 255,
     "status": "ok",
     "timestamp": 1698066356038,
     "user": {
      "displayName": "Alessandra Retico",
      "userId": "14532676711952981925"
     },
     "user_tz": -120
    },
    "id": "rLWUSnZmoNsg",
    "outputId": "64c61b56-0b15-4b07-f448-6c44ecc5d333"
   },
   "outputs": [],
   "source": [
    "x = np.random.randint(0, 10, (8, 12)) # see also np.random.rand() and np.random.randn()\n",
    "x"
   ]
  },
  {
   "cell_type": "code",
   "execution_count": null,
   "metadata": {
    "colab": {
     "base_uri": "https://localhost:8080/"
    },
    "executionInfo": {
     "elapsed": 234,
     "status": "ok",
     "timestamp": 1698066447318,
     "user": {
      "displayName": "Alessandra Retico",
      "userId": "14532676711952981925"
     },
     "user_tz": -120
    },
    "id": "D3RvoA7ZpQjU",
    "outputId": "f7189c7e-269a-484b-f80c-3f7f1514a449"
   },
   "outputs": [],
   "source": [
    "x = np.random.rand(8, 12) # see also np.random.rand() and np.random.randn()\n",
    "x"
   ]
  },
  {
   "cell_type": "code",
   "execution_count": null,
   "metadata": {
    "colab": {
     "base_uri": "https://localhost:8080/"
    },
    "executionInfo": {
     "elapsed": 3,
     "status": "ok",
     "timestamp": 1698066631901,
     "user": {
      "displayName": "Alessandra Retico",
      "userId": "14532676711952981925"
     },
     "user_tz": -120
    },
    "id": "V2lq8FTdpiir",
    "outputId": "4c059411-f6b9-496f-90ca-c48de0af1589"
   },
   "outputs": [],
   "source": [
    "x = np.random.randn(8, 12)\n",
    "x"
   ]
  },
  {
   "cell_type": "markdown",
   "metadata": {
    "id": "9UhGT8p8EhP6"
   },
   "source": [
    "Individual elements can be sampled from the array"
   ]
  },
  {
   "cell_type": "code",
   "execution_count": null,
   "metadata": {
    "colab": {
     "base_uri": "https://localhost:8080/"
    },
    "executionInfo": {
     "elapsed": 322,
     "status": "ok",
     "timestamp": 1698066675583,
     "user": {
      "displayName": "Alessandra Retico",
      "userId": "14532676711952981925"
     },
     "user_tz": -120
    },
    "id": "A7N_yMccoQT0",
    "outputId": "557e0977-177d-4622-d9cb-4c65eedd500c"
   },
   "outputs": [],
   "source": [
    "np.random.choice(x.ravel(), 12)"
   ]
  },
  {
   "cell_type": "markdown",
   "metadata": {
    "id": "73tN3Q3IEy5y"
   },
   "source": [
    "Rows can be sampled"
   ]
  },
  {
   "cell_type": "code",
   "execution_count": null,
   "metadata": {
    "colab": {
     "base_uri": "https://localhost:8080/"
    },
    "executionInfo": {
     "elapsed": 227,
     "status": "ok",
     "timestamp": 1698066727257,
     "user": {
      "displayName": "Alessandra Retico",
      "userId": "14532676711952981925"
     },
     "user_tz": -120
    },
    "id": "2uqHUkaM4UvC",
    "outputId": "aaa1eab1-0ffe-4d1b-b3f8-82c74ca364cd"
   },
   "outputs": [],
   "source": [
    "x.shape[0]"
   ]
  },
  {
   "cell_type": "code",
   "execution_count": null,
   "metadata": {
    "colab": {
     "base_uri": "https://localhost:8080/"
    },
    "executionInfo": {
     "elapsed": 241,
     "status": "ok",
     "timestamp": 1698067222880,
     "user": {
      "displayName": "Alessandra Retico",
      "userId": "14532676711952981925"
     },
     "user_tz": -120
    },
    "id": "pyZ8AXEToS7X",
    "outputId": "f37cdc9d-b529-4814-ee48-c39467dc73c5"
   },
   "outputs": [],
   "source": [
    "idx = np.random.choice(x.shape[0], 4)\n",
    "print(idx)\n",
    "x[idx, :]"
   ]
  },
  {
   "cell_type": "markdown",
   "metadata": {
    "id": "RXuMZIk6E4_s"
   },
   "source": [
    ".. or columns"
   ]
  },
  {
   "cell_type": "code",
   "execution_count": null,
   "metadata": {
    "colab": {
     "base_uri": "https://localhost:8080/"
    },
    "executionInfo": {
     "elapsed": 237,
     "status": "ok",
     "timestamp": 1698067044092,
     "user": {
      "displayName": "Alessandra Retico",
      "userId": "14532676711952981925"
     },
     "user_tz": -120
    },
    "id": "86L0lTVhoVU3",
    "outputId": "19f7fbe3-2b7e-4c03-9f30-612cfe85e35b"
   },
   "outputs": [],
   "source": [
    "idx = np.random.choice(x.shape[1], 4)\n",
    "x[:, idx]"
   ]
  },
  {
   "cell_type": "markdown",
   "metadata": {
    "id": "hByZUoa4BGkL"
   },
   "source": [
    "## Sampling without replacement"
   ]
  },
  {
   "cell_type": "markdown",
   "metadata": {
    "id": "BZn2OvkWFP9j"
   },
   "source": [
    "Sampling without replacement can be done by giving the argument replace=False to `np.random.choice`."
   ]
  },
  {
   "cell_type": "code",
   "execution_count": null,
   "metadata": {
    "colab": {
     "base_uri": "https://localhost:8080/"
    },
    "executionInfo": {
     "elapsed": 282,
     "status": "ok",
     "timestamp": 1698067297867,
     "user": {
      "displayName": "Alessandra Retico",
      "userId": "14532676711952981925"
     },
     "user_tz": -120
    },
    "id": "FF3gKeL9I3s2",
    "outputId": "180a07d9-3ea0-4f6c-d8fe-7b64ad9414d9"
   },
   "outputs": [],
   "source": [
    "np.random.choice(10, 4, replace=False)"
   ]
  },
  {
   "cell_type": "markdown",
   "metadata": {
    "id": "PVOE1XBvI4BS"
   },
   "source": [
    "A number of samples smaller than the population size shoud be asked, otherwise:"
   ]
  },
  {
   "cell_type": "code",
   "execution_count": null,
   "metadata": {
    "executionInfo": {
     "elapsed": 217,
     "status": "ok",
     "timestamp": 1698067404029,
     "user": {
      "displayName": "Alessandra Retico",
      "userId": "14532676711952981925"
     },
     "user_tz": -120
    },
    "id": "ZF6DV8-bKMnm"
   },
   "outputs": [],
   "source": [
    "np.random.choice(4, 12, replace=False) # it raises an error (which can be handled)"
   ]
  },
  {
   "cell_type": "code",
   "execution_count": null,
   "metadata": {
    "colab": {
     "base_uri": "https://localhost:8080/"
    },
    "executionInfo": {
     "elapsed": 246,
     "status": "ok",
     "timestamp": 1698067464669,
     "user": {
      "displayName": "Alessandra Retico",
      "userId": "14532676711952981925"
     },
     "user_tz": -120
    },
    "id": "uDJI6lQ3oYuX",
    "outputId": "cd6b0d05-9b14-432e-e930-92109f2dcd9e"
   },
   "outputs": [],
   "source": [
    "try:\n",
    "  np.random.choice(4, 12, replace=False)\n",
    "except ValueError as ve:\n",
    "  print(ve)\n",
    "  #Cannot take a larger sample than population when 'replace=False'"
   ]
  },
  {
   "cell_type": "markdown",
   "metadata": {
    "id": "5BWH8d2IBM8V"
   },
   "source": [
    "## Not only numbers...\n",
    "\n",
    "`np.random.choice` can be used with an arbitrary array-like instead of just integers."
   ]
  },
  {
   "cell_type": "code",
   "execution_count": null,
   "metadata": {
    "colab": {
     "base_uri": "https://localhost:8080/"
    },
    "executionInfo": {
     "elapsed": 232,
     "status": "ok",
     "timestamp": 1698067593307,
     "user": {
      "displayName": "Alessandra Retico",
      "userId": "14532676711952981925"
     },
     "user_tz": -120
    },
    "id": "Cz2-fb3NBem4",
    "outputId": "2cae5a00-abaa-40e9-a244-da22a6e78cad"
   },
   "outputs": [],
   "source": [
    "a = ['cat','dog','pig','bird','fish']\n",
    "type(a)"
   ]
  },
  {
   "cell_type": "code",
   "execution_count": null,
   "metadata": {
    "colab": {
     "base_uri": "https://localhost:8080/"
    },
    "executionInfo": {
     "elapsed": 223,
     "status": "ok",
     "timestamp": 1698067601348,
     "user": {
      "displayName": "Alessandra Retico",
      "userId": "14532676711952981925"
     },
     "user_tz": -120
    },
    "id": "pWJmMIwUBuMX",
    "outputId": "ce3fd2ee-2ab0-44bd-d1a5-d0cb09d1d7c1"
   },
   "outputs": [],
   "source": [
    "np.random.choice(a, 12)"
   ]
  },
  {
   "cell_type": "markdown",
   "metadata": {
    "id": "i0e7CR5uJtqX"
   },
   "source": [
    "\n",
    "# Pandas pd.DataFrame.sample"
   ]
  },
  {
   "cell_type": "code",
   "execution_count": null,
   "metadata": {
    "executionInfo": {
     "elapsed": 405,
     "status": "ok",
     "timestamp": 1698067750174,
     "user": {
      "displayName": "Alessandra Retico",
      "userId": "14532676711952981925"
     },
     "user_tz": -120
    },
    "id": "j00ITYvbOzK9"
   },
   "outputs": [],
   "source": [
    "import pandas as pd\n",
    "import numpy as np"
   ]
  },
  {
   "cell_type": "markdown",
   "metadata": {
    "id": "KnjXg5YG4kRs"
   },
   "source": [
    "The `DataFrame.sample` returns a random sample of items from an axis of object.\n",
    "\n",
    "`DataFrame.sample(n=None, frac=None, replace=False, weights=None, random_state=None, axis=None, ignore_index=False)`\n",
    "\n",
    "\n",
    "\n",
    "\n"
   ]
  },
  {
   "cell_type": "markdown",
   "metadata": {
    "id": "JaVPB_JaIB9X"
   },
   "source": [
    "See also:\n",
    "\n",
    "`DataFrameGroupBy.sample`\n",
    "Generates random samples from each group of a DataFrame object.\n",
    "\n",
    "`SeriesGroupBy.sample`\n",
    "Generates random samples from each group of a Series object."
   ]
  },
  {
   "cell_type": "markdown",
   "metadata": {
    "id": "DEtbwh7N4z5d"
   },
   "source": [
    "Also in this case you can use random_state for reproducibility."
   ]
  },
  {
   "cell_type": "code",
   "execution_count": null,
   "metadata": {
    "colab": {
     "base_uri": "https://localhost:8080/",
     "height": 175
    },
    "executionInfo": {
     "elapsed": 457,
     "status": "ok",
     "timestamp": 1698068110178,
     "user": {
      "displayName": "Alessandra Retico",
      "userId": "14532676711952981925"
     },
     "user_tz": -120
    },
    "id": "dtpO0NvaJzWU",
    "outputId": "f681a5c8-e6d5-4c93-d3f7-89b89b623328"
   },
   "outputs": [],
   "source": [
    "df =  pd.DataFrame({'num_legs': [2, 4, 8, 0],\n",
    "                   'num_wings': [2, 0, 0, 0],\n",
    "                   'num_specimen_seen': [10, 2, 1, 8]},\n",
    "                  index=['falcon', 'dog', 'spider', 'fish'])\n",
    "df"
   ]
  },
  {
   "cell_type": "markdown",
   "metadata": {
    "id": "CqvA7v2HPYHP"
   },
   "source": [
    "Rows can be sampled with and withour replacement"
   ]
  },
  {
   "cell_type": "code",
   "execution_count": null,
   "metadata": {
    "id": "p9DuWtZFMrNe"
   },
   "outputs": [],
   "source": [
    "sample_data = df.sample(10, replace=True, random_state=123) # the defult setting for replace=False)\n",
    "sample_data"
   ]
  },
  {
   "cell_type": "markdown",
   "metadata": {
    "id": "1TDPTUKgQFTJ"
   },
   "source": [
    "A DataFrame column can be used as weights. Rows with larger value in the column chosen to weight are more likely to be sampled"
   ]
  },
  {
   "cell_type": "code",
   "execution_count": null,
   "metadata": {
    "id": "16OlcYdKQWh7"
   },
   "outputs": [],
   "source": [
    "sample_data = df.sample(n=10, replace=True, weights='num_specimen_seen', random_state=123)\n",
    "sample_data"
   ]
  },
  {
   "cell_type": "markdown",
   "metadata": {
    "id": "PvPLblWZPTU0"
   },
   "source": [
    "Also columns can be sampled"
   ]
  },
  {
   "cell_type": "code",
   "execution_count": null,
   "metadata": {
    "id": "F3lM9c1cPhGA"
   },
   "outputs": [],
   "source": [
    "sample_data = df.sample(5, replace=True, axis = 1)\n",
    "sample_data"
   ]
  },
  {
   "cell_type": "markdown",
   "metadata": {
    "id": "LJ-tl_m-ewPR"
   },
   "source": [
    "##Stratified  sampling\n",
    "\n",
    "\n",
    "We can stratify the sampling procedure for example according to a category (e.g. according to the number of wings)\n",
    "\n",
    "`DataFrameGroupBy.sample(n=None, frac=None, replace=False, weights=None, random_state=None)`\n",
    "\n",
    "Return a random sample of items from each group."
   ]
  },
  {
   "cell_type": "code",
   "execution_count": null,
   "metadata": {
    "id": "gIeTsmrre4va"
   },
   "outputs": [],
   "source": [
    "df.groupby(\"num_wings\").sample(n=6, replace=True)"
   ]
  },
  {
   "cell_type": "markdown",
   "metadata": {
    "id": "4MYPKUGsf2Gv"
   },
   "source": [
    "Control sample probabilities within groups by setting weights"
   ]
  },
  {
   "cell_type": "code",
   "execution_count": null,
   "metadata": {
    "colab": {
     "base_uri": "https://localhost:8080/"
    },
    "executionInfo": {
     "elapsed": 267,
     "status": "ok",
     "timestamp": 1698068686196,
     "user": {
      "displayName": "Alessandra Retico",
      "userId": "14532676711952981925"
     },
     "user_tz": -120
    },
    "id": "EDPDg4x3h9br",
    "outputId": "8a785da2-c85c-4cb7-b7cd-a33850072299"
   },
   "outputs": [],
   "source": [
    "df.num_specimen_seen"
   ]
  },
  {
   "cell_type": "code",
   "execution_count": null,
   "metadata": {
    "id": "KHB--S4Rf1vH"
   },
   "outputs": [],
   "source": [
    "df.groupby(\"num_wings\").sample(n=6, replace=True,   weights=df.num_specimen_seen, random_state=123)"
   ]
  },
  {
   "cell_type": "markdown",
   "metadata": {
    "id": "iozBCB1QL0yr"
   },
   "source": [
    "# Scikit-learn resample\n",
    "\n",
    "The `sklearn.utils.resample` resamples arrays or sparse matrices in a consistent way.\n",
    "\n",
    "`sklearn.utils.resample(*arrays, replace=True, n_samples=None, random_state=None, stratify=None)`\n",
    "\n"
   ]
  },
  {
   "cell_type": "code",
   "execution_count": null,
   "metadata": {
    "executionInfo": {
     "elapsed": 877,
     "status": "ok",
     "timestamp": 1698068982355,
     "user": {
      "displayName": "Alessandra Retico",
      "userId": "14532676711952981925"
     },
     "user_tz": -120
    },
    "id": "aqKu72dBRCrH"
   },
   "outputs": [],
   "source": [
    "import numpy as np\n",
    "from sklearn.utils import resample"
   ]
  },
  {
   "cell_type": "code",
   "execution_count": null,
   "metadata": {
    "executionInfo": {
     "elapsed": 234,
     "status": "ok",
     "timestamp": 1698068993492,
     "user": {
      "displayName": "Alessandra Retico",
      "userId": "14532676711952981925"
     },
     "user_tz": -120
    },
    "id": "kKJwWl4VRj3Q"
   },
   "outputs": [],
   "source": [
    "X_features = np.array([[1., 2.1], [2., 3.1], [0.5, 1.8]])\n",
    "X_phenotypic = np.array([[1., 0.], [2., 1.], [2., 0.]])\n",
    "Y_diagnosis = ['mal', 'ben', 'ben']"
   ]
  },
  {
   "cell_type": "code",
   "execution_count": null,
   "metadata": {
    "colab": {
     "base_uri": "https://localhost:8080/"
    },
    "executionInfo": {
     "elapsed": 257,
     "status": "ok",
     "timestamp": 1698069068843,
     "user": {
      "displayName": "Alessandra Retico",
      "userId": "14532676711952981925"
     },
     "user_tz": -120
    },
    "id": "a3qh9KY9V8mh",
    "outputId": "b5ca0f83-212d-4479-d172-32e51b6fa34a"
   },
   "outputs": [],
   "source": [
    "X_features"
   ]
  },
  {
   "cell_type": "code",
   "execution_count": null,
   "metadata": {
    "colab": {
     "base_uri": "https://localhost:8080/"
    },
    "executionInfo": {
     "elapsed": 404,
     "status": "ok",
     "timestamp": 1698069066409,
     "user": {
      "displayName": "Alessandra Retico",
      "userId": "14532676711952981925"
     },
     "user_tz": -120
    },
    "id": "uaqYCf03WI2B",
    "outputId": "bfc60878-edb3-486c-aaaf-f67df6714d6d"
   },
   "outputs": [],
   "source": [
    "X_phenotypic"
   ]
  },
  {
   "cell_type": "code",
   "execution_count": null,
   "metadata": {
    "colab": {
     "base_uri": "https://localhost:8080/"
    },
    "executionInfo": {
     "elapsed": 339,
     "status": "ok",
     "timestamp": 1698069092868,
     "user": {
      "displayName": "Alessandra Retico",
      "userId": "14532676711952981925"
     },
     "user_tz": -120
    },
    "id": "bEwMCa2mWNWV",
    "outputId": "70ace701-dbb4-4566-e28c-dc51f624b03c"
   },
   "outputs": [],
   "source": [
    "Y_diagnosis"
   ]
  },
  {
   "cell_type": "markdown",
   "metadata": {
    "id": "Roc4-dpuWZ5z"
   },
   "source": [
    "You can consistenly resample different arrays."
   ]
  },
  {
   "cell_type": "code",
   "execution_count": null,
   "metadata": {
    "executionInfo": {
     "elapsed": 230,
     "status": "ok",
     "timestamp": 1698069203249,
     "user": {
      "displayName": "Alessandra Retico",
      "userId": "14532676711952981925"
     },
     "user_tz": -120
    },
    "id": "IWBL7E56W5jD"
   },
   "outputs": [],
   "source": [
    "sX_features, sX_phenotypic, sY_diagnosis = resample(X_features, X_phenotypic, Y_diagnosis, n_samples= 2, random_state=23)"
   ]
  },
  {
   "cell_type": "code",
   "execution_count": null,
   "metadata": {
    "colab": {
     "base_uri": "https://localhost:8080/"
    },
    "executionInfo": {
     "elapsed": 283,
     "status": "ok",
     "timestamp": 1698069207998,
     "user": {
      "displayName": "Alessandra Retico",
      "userId": "14532676711952981925"
     },
     "user_tz": -120
    },
    "id": "4OjA3ampXY8e",
    "outputId": "ba3b3432-723e-4ba4-f3f6-dc2c7e0a0ca1"
   },
   "outputs": [],
   "source": [
    "sX_features, sX_phenotypic, sY_diagnosis"
   ]
  },
  {
   "cell_type": "markdown",
   "metadata": {
    "id": "E4CbPT7WXzJe"
   },
   "source": [
    "## Stratified sampling\n",
    "\n",
    "Sampling using stratification"
   ]
  },
  {
   "cell_type": "code",
   "execution_count": null,
   "metadata": {
    "executionInfo": {
     "elapsed": 266,
     "status": "ok",
     "timestamp": 1698069328506,
     "user": {
      "displayName": "Alessandra Retico",
      "userId": "14532676711952981925"
     },
     "user_tz": -120
    },
    "id": "AowYK2wKYERc"
   },
   "outputs": [],
   "source": [
    "X_features = np.array([[1., 2.1], [2., 3.1], [2.5, 3.], [0.5, 1.8], [0.7, 1.5], [1.5, 3.8], [0.7, 1.5], [0.3, 1.2]])\n",
    "Y_diagnosis = ['mal', 'ben', 'ben', 'ben','mal','mal','ben','mal']"
   ]
  },
  {
   "cell_type": "code",
   "execution_count": null,
   "metadata": {
    "executionInfo": {
     "elapsed": 238,
     "status": "ok",
     "timestamp": 1698069543652,
     "user": {
      "displayName": "Alessandra Retico",
      "userId": "14532676711952981925"
     },
     "user_tz": -120
    },
    "id": "UizhL3vmYqyh"
   },
   "outputs": [],
   "source": [
    "sX_features, sY_diagnosis = resample(X_features, Y_diagnosis, n_samples=20, replace=True, stratify=Y_diagnosis, random_state=123)"
   ]
  },
  {
   "cell_type": "markdown",
   "metadata": {
    "id": "lVDbzy3oZ5fT"
   },
   "source": [
    "Stratify means the distribution in your original classes is preserved."
   ]
  },
  {
   "cell_type": "markdown",
   "metadata": {
    "id": "t6lNPd9SlOZb"
   },
   "source": [
    "Number of subjects with a 'mal' diagnosis in the original sample:"
   ]
  },
  {
   "cell_type": "code",
   "execution_count": null,
   "metadata": {
    "colab": {
     "base_uri": "https://localhost:8080/"
    },
    "executionInfo": {
     "elapsed": 221,
     "status": "ok",
     "timestamp": 1698069448921,
     "user": {
      "displayName": "Alessandra Retico",
      "userId": "14532676711952981925"
     },
     "user_tz": -120
    },
    "id": "kdsaxnmDtuLm",
    "outputId": "6bee11b3-3551-4f83-b350-63141681bf37"
   },
   "outputs": [],
   "source": [
    "Y_diagnosis.count('mal')/len(Y_diagnosis)"
   ]
  },
  {
   "cell_type": "code",
   "execution_count": null,
   "metadata": {
    "colab": {
     "base_uri": "https://localhost:8080/"
    },
    "executionInfo": {
     "elapsed": 375,
     "status": "ok",
     "timestamp": 1698069547796,
     "user": {
      "displayName": "Alessandra Retico",
      "userId": "14532676711952981925"
     },
     "user_tz": -120
    },
    "id": "EP1GSgIqY6tY",
    "outputId": "5e23a866-1b29-449f-e8c8-32a93a77cbf4"
   },
   "outputs": [],
   "source": [
    "sX_features, sY_diagnosis"
   ]
  },
  {
   "cell_type": "markdown",
   "metadata": {
    "id": "X0ujCIZ9lY-k"
   },
   "source": [
    "Number of subjects with a 'mal' diagnosis in the resampled sample:"
   ]
  },
  {
   "cell_type": "code",
   "execution_count": null,
   "metadata": {
    "colab": {
     "base_uri": "https://localhost:8080/"
    },
    "executionInfo": {
     "elapsed": 215,
     "status": "ok",
     "timestamp": 1698069551809,
     "user": {
      "displayName": "Alessandra Retico",
      "userId": "14532676711952981925"
     },
     "user_tz": -120
    },
    "id": "skIwKqJ0aRzU",
    "outputId": "c366670e-29fd-43c7-fa93-c56db4fad252"
   },
   "outputs": [],
   "source": [
    "sY_diagnosis.count('mal')/len(sY_diagnosis)"
   ]
  },
  {
   "cell_type": "code",
   "execution_count": null,
   "metadata": {
    "executionInfo": {
     "elapsed": 3,
     "status": "ok",
     "timestamp": 1698069575321,
     "user": {
      "displayName": "Alessandra Retico",
      "userId": "14532676711952981925"
     },
     "user_tz": -120
    },
    "id": "T5kgVF9A1Vum"
   },
   "outputs": [],
   "source": [
    "sX_features, sY_diagnosis = resample(X_features, Y_diagnosis, n_samples=20, replace=True,  random_state=123)"
   ]
  },
  {
   "cell_type": "code",
   "execution_count": null,
   "metadata": {
    "colab": {
     "base_uri": "https://localhost:8080/"
    },
    "executionInfo": {
     "elapsed": 3,
     "status": "ok",
     "timestamp": 1698069581235,
     "user": {
      "displayName": "Alessandra Retico",
      "userId": "14532676711952981925"
     },
     "user_tz": -120
    },
    "id": "yoVlW0Q01XNK",
    "outputId": "34b66a88-dacc-4bfe-e707-92dae12a1450"
   },
   "outputs": [],
   "source": [
    "sY_diagnosis.count('mal')/len(sY_diagnosis)"
   ]
  },
  {
   "cell_type": "code",
   "execution_count": null,
   "metadata": {
    "id": "IYbasxW91Ysr"
   },
   "outputs": [],
   "source": []
  }
 ],
 "metadata": {
  "colab": {
   "provenance": [],
   "toc_visible": true
  },
  "kernelspec": {
   "display_name": "Python 3 (ipykernel)",
   "language": "python",
   "name": "python3"
  },
  "language_info": {
   "codemirror_mode": {
    "name": "ipython",
    "version": 3
   },
   "file_extension": ".py",
   "mimetype": "text/x-python",
   "name": "python",
   "nbconvert_exporter": "python",
   "pygments_lexer": "ipython3",
   "version": "3.10.12"
  },
  "toc-autonumbering": true,
  "toc-showcode": false,
  "toc-showmarkdowntxt": false
 },
 "nbformat": 4,
 "nbformat_minor": 4
}
