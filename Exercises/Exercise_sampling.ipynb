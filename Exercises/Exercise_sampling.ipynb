{
 "cells": [
  {
   "cell_type": "markdown",
   "metadata": {},
   "source": [
    "# Import libraries and dataset"
   ]
  },
  {
   "cell_type": "markdown",
   "metadata": {},
   "source": [
    "## Import necessary libraries"
   ]
  },
  {
   "cell_type": "code",
   "execution_count": 5,
   "metadata": {},
   "outputs": [],
   "source": [
    "import pandas as pd\n",
    "import matplotlib.pyplot as plt\n",
    "import seaborn as sns\n",
    "import numpy as np"
   ]
  },
  {
   "cell_type": "markdown",
   "metadata": {},
   "source": [
    "## Load the exercise dataset into a Pandas DataFrame"
   ]
  },
  {
   "cell_type": "code",
   "execution_count": 6,
   "metadata": {},
   "outputs": [],
   "source": [
    "df = pd.read_csv('../Datasets/FS_features_ABIDE_males_someGlobals.csv')"
   ]
  },
  {
   "cell_type": "markdown",
   "metadata": {
    "editable": true,
    "slideshow": {
     "slide_type": ""
    },
    "tags": []
   },
   "source": [
    "## Set the default figure size"
   ]
  },
  {
   "cell_type": "code",
   "execution_count": 7,
   "metadata": {},
   "outputs": [],
   "source": [
    "# Set the default figure size for Matplotlib plots\n",
    "# This line adjusts the default figure size to (10, 5) inches.\n",
    "\n",
    "plt.rcParams[\"figure.figsize\"] = (10, 5)"
   ]
  },
  {
   "cell_type": "markdown",
   "metadata": {},
   "source": [
    "This code uses `plt.rcParams` to modify the default configuration parameters for Matplotlib. In this case, it sets the default figure size for plots to be 10 inches in width and 5 inches in height. This can be particularly useful when you want to ensure a consistent figure size across multiple plots in your code. Adjust the values `(10, 5)` to your preferred dimensions."
   ]
  },
  {
   "cell_type": "markdown",
   "metadata": {},
   "source": [
    "# Data representation"
   ]
  },
  {
   "cell_type": "markdown",
   "metadata": {},
   "source": [
    "## Construct the normal distribution plot"
   ]
  },
  {
   "cell_type": "markdown",
   "metadata": {},
   "source": [
    "The function `np.random.normal(loc=mean, scale=sd, size=nsample)` generates `nsample` samples from the normal distribution with a mean of `mean` and a standard deviation of `sd`"
   ]
  },
  {
   "cell_type": "code",
   "execution_count": 8,
   "metadata": {},
   "outputs": [
    {
     "data": {
      "image/png": "[encoded data removed]",
      "text/plain": [
       "<Figure size 432x288 with 1 Axes>"
      ]
     },
     "metadata": {
      "needs_background": "light"
     },
     "output_type": "display_data"
    }
   ],
   "source": [
    "import numpy as np\n",
    "import matplotlib.pyplot as plt\n",
    "\n",
    "# Generate 100,000 random samples from a normal distribution with mean=1, standard deviation=0.5 for x\n",
    "x = np.random.normal(loc=1, scale=0.5, size=100000)\n",
    "\n",
    "# Create a histogram of the generated data\n",
    "# - 'density=True' normalizes the histogram to represent a probability density.\n",
    "# - 'bins=30' specifies the number of bins in the histogram.\n",
    "# - 'rwidth=0.9' adjusts the width of the bars for better visualization.\n",
    "ndist = plt.hist(x, density=True, bins=30, rwidth=0.9)\n",
    "\n",
    "# Optional: Add labels and title for better plot interpretation\n",
    "plt.xlabel('X-axis')\n",
    "plt.ylabel('Density')\n",
    "plt.title('Histogram of Random Samples from Normal Distribution')\n",
    "\n",
    "# Show the plot\n",
    "plt.show()"
   ]
  },
  {
   "cell_type": "markdown",
   "metadata": {},
   "source": [
    "This code generates a histogram of 100,000 random samples (`x`) from a normal distribution with a mean of 1 and a standard deviation of 0.5. The `density=True` argument normalizes the histogram to represent a probability density. The histogram is divided into 30 bins (`bins=30`) with adjusted bar widths (`rwidth=0.9`) for better visualization. The resulting plot provides insights into the distribution of the generated random samples."
   ]
  },
  {
   "cell_type": "markdown",
   "metadata": {
    "id": "ThppnP_-gzCj"
   },
   "source": [
    "## Construct a scatter plot from normal distribution with noise"
   ]
  },
  {
   "cell_type": "code",
   "execution_count": 9,
   "metadata": {
    "id": "tOa7iA9Lyro3"
   },
   "outputs": [
    {
     "data": {
      "image/png": "[encoded data removed]",
      "text/plain": [
       "<Figure size 432x288 with 1 Axes>"
      ]
     },
     "metadata": {
      "needs_background": "light"
     },
     "output_type": "display_data"
    }
   ],
   "source": [
    "# Generate 10,000 random samples from a normal distribution with mean=1, standard deviation=0.5 for x\n",
    "x = np.random.normal(loc=1, scale=0.5, size=10000)\n",
    "\n",
    "# Generate 10,000 random samples from a normal distribution with mean=1, standard deviation=0.05 for y\n",
    "# Add these values to x, creating a linear relationship with some noise\n",
    "y = x + np.random.normal(loc=1, scale=0.05, size=10000)\n",
    "\n",
    "# Create a scatter plot using the generated data points\n",
    "scplot = plt.scatter(x, y)\n",
    "\n",
    "# Optional: Add labels and title for better plot interpretation\n",
    "plt.xlabel('X-axis')\n",
    "plt.ylabel('Y-axis')\n",
    "plt.title('Scatter Plot of X and Y')\n",
    "\n",
    "# Show the plot\n",
    "plt.show()"
   ]
  },
  {
   "cell_type": "markdown",
   "metadata": {},
   "source": [
    "This code generates a scatter plot where the x-axis values (`x`) follow a normal distribution with a mean of 1 and a standard deviation of 0.5. The y-axis values (`y`) are created by adding a normal distribution with a mean of 1 and a smaller standard deviation of 0.05 to the x-axis values, introducing some noise. The resulting scatter plot visualizes the relationship between `x` and `y`."
   ]
  },
  {
   "cell_type": "markdown",
   "metadata": {},
   "source": [
    "## Using seaborn for data representation"
   ]
  },
  {
   "cell_type": "markdown",
   "metadata": {},
   "source": [
    "Generate a box plot of subjects' age by diagnostic group for the original dataset and for the sample"
   ]
  },
  {
   "cell_type": "code",
   "execution_count": 10,
   "metadata": {},
   "outputs": [
    {
     "data": {
      "image/png": "[encoded data removed]",
      "text/plain": [
       "<Figure size 432x288 with 1 Axes>"
      ]
     },
     "metadata": {
      "needs_background": "light"
     },
     "output_type": "display_data"
    }
   ],
   "source": [
    "sns_boxplot = sns.boxplot(x='DX_GROUP', y='AGE_AT_SCAN', data=df).grid()"
   ]
  },
  {
   "cell_type": "code",
   "execution_count": 11,
   "metadata": {},
   "outputs": [
    {
     "data": {
      "text/html": [
       "<div>\n",
       "<style scoped>\n",
       "    .dataframe tbody tr th:only-of-type {\n",
       "        vertical-align: middle;\n",
       "    }\n",
       "\n",
       "    .dataframe tbody tr th {\n",
       "        vertical-align: top;\n",
       "    }\n",
       "\n",
       "    .dataframe thead th {\n",
       "        text-align: right;\n",
       "    }\n",
       "</style>\n",
       "<table border=\"1\" class=\"dataframe\">\n",
       "  <thead>\n",
       "    <tr style=\"text-align: right;\">\n",
       "      <th></th>\n",
       "      <th>FILE_ID</th>\n",
       "      <th>AGE_AT_SCAN</th>\n",
       "      <th>SEX</th>\n",
       "      <th>FIQ</th>\n",
       "      <th>DX_GROUP</th>\n",
       "      <th>lh_MeanThickness</th>\n",
       "      <th>rh_MeanThickness</th>\n",
       "      <th>lhCortexVol</th>\n",
       "      <th>rhCortexVol</th>\n",
       "      <th>lhCerebralWhiteMatterVol</th>\n",
       "      <th>rhCerebralWhiteMatterVol</th>\n",
       "      <th>TotalGrayVol</th>\n",
       "      <th>Site</th>\n",
       "    </tr>\n",
       "  </thead>\n",
       "  <tbody>\n",
       "    <tr>\n",
       "      <th>0</th>\n",
       "      <td>Caltech_0051456</td>\n",
       "      <td>55.4</td>\n",
       "      <td>1</td>\n",
       "      <td>126.0</td>\n",
       "      <td>1</td>\n",
       "      <td>2.52039</td>\n",
       "      <td>2.52379</td>\n",
       "      <td>258703.4443</td>\n",
       "      <td>262670.1207</td>\n",
       "      <td>262254.9768</td>\n",
       "      <td>265741.1295</td>\n",
       "      <td>701211.5651</td>\n",
       "      <td>Caltech</td>\n",
       "    </tr>\n",
       "    <tr>\n",
       "      <th>1</th>\n",
       "      <td>Caltech_0051457</td>\n",
       "      <td>22.9</td>\n",
       "      <td>1</td>\n",
       "      <td>107.0</td>\n",
       "      <td>1</td>\n",
       "      <td>2.55533</td>\n",
       "      <td>2.56998</td>\n",
       "      <td>321132.1284</td>\n",
       "      <td>317004.7945</td>\n",
       "      <td>304528.2513</td>\n",
       "      <td>301555.0187</td>\n",
       "      <td>841485.9229</td>\n",
       "      <td>Caltech</td>\n",
       "    </tr>\n",
       "    <tr>\n",
       "      <th>2</th>\n",
       "      <td>Caltech_0051458</td>\n",
       "      <td>39.2</td>\n",
       "      <td>1</td>\n",
       "      <td>93.0</td>\n",
       "      <td>1</td>\n",
       "      <td>2.64518</td>\n",
       "      <td>2.63160</td>\n",
       "      <td>266418.9917</td>\n",
       "      <td>266456.1701</td>\n",
       "      <td>271683.1723</td>\n",
       "      <td>266494.7088</td>\n",
       "      <td>726728.1619</td>\n",
       "      <td>Caltech</td>\n",
       "    </tr>\n",
       "    <tr>\n",
       "      <th>3</th>\n",
       "      <td>Caltech_0051459</td>\n",
       "      <td>22.8</td>\n",
       "      <td>1</td>\n",
       "      <td>106.0</td>\n",
       "      <td>1</td>\n",
       "      <td>2.70814</td>\n",
       "      <td>2.72762</td>\n",
       "      <td>307157.4469</td>\n",
       "      <td>310540.0389</td>\n",
       "      <td>258618.7918</td>\n",
       "      <td>255480.2694</td>\n",
       "      <td>794676.4859</td>\n",
       "      <td>Caltech</td>\n",
       "    </tr>\n",
       "    <tr>\n",
       "      <th>4</th>\n",
       "      <td>Caltech_0051461</td>\n",
       "      <td>37.7</td>\n",
       "      <td>1</td>\n",
       "      <td>99.0</td>\n",
       "      <td>1</td>\n",
       "      <td>2.59002</td>\n",
       "      <td>2.61012</td>\n",
       "      <td>263932.5269</td>\n",
       "      <td>269417.2519</td>\n",
       "      <td>242330.5838</td>\n",
       "      <td>232809.9268</td>\n",
       "      <td>714122.7788</td>\n",
       "      <td>Caltech</td>\n",
       "    </tr>\n",
       "  </tbody>\n",
       "</table>\n",
       "</div>"
      ],
      "text/plain": [
       "           FILE_ID  AGE_AT_SCAN  SEX    FIQ  DX_GROUP  lh_MeanThickness  \\\n",
       "0  Caltech_0051456         55.4    1  126.0         1           2.52039   \n",
       "1  Caltech_0051457         22.9    1  107.0         1           2.55533   \n",
       "2  Caltech_0051458         39.2    1   93.0         1           2.64518   \n",
       "3  Caltech_0051459         22.8    1  106.0         1           2.70814   \n",
       "4  Caltech_0051461         37.7    1   99.0         1           2.59002   \n",
       "\n",
       "   rh_MeanThickness  lhCortexVol  rhCortexVol  lhCerebralWhiteMatterVol  \\\n",
       "0           2.52379  258703.4443  262670.1207               262254.9768   \n",
       "1           2.56998  321132.1284  317004.7945               304528.2513   \n",
       "2           2.63160  266418.9917  266456.1701               271683.1723   \n",
       "3           2.72762  307157.4469  310540.0389               258618.7918   \n",
       "4           2.61012  263932.5269  269417.2519               242330.5838   \n",
       "\n",
       "   rhCerebralWhiteMatterVol  TotalGrayVol     Site  \n",
       "0               265741.1295   701211.5651  Caltech  \n",
       "1               301555.0187   841485.9229  Caltech  \n",
       "2               266494.7088   726728.1619  Caltech  \n",
       "3               255480.2694   794676.4859  Caltech  \n",
       "4               232809.9268   714122.7788  Caltech  "
      ]
     },
     "execution_count": 11,
     "metadata": {},
     "output_type": "execute_result"
    }
   ],
   "source": [
    "# The 'lambda x: x.split('_')[0]' function splits each 'FILE_ID' value using '_' and takes the first part.\n",
    "\n",
    "df['Site'] = df.FILE_ID.apply(lambda x: x.split('_')[0])\n",
    "\n",
    "# Display the first few rows of the DataFrame with the new 'Site' column\n",
    "df.head()"
   ]
  },
  {
   "cell_type": "markdown",
   "metadata": {},
   "source": [
    "This code snippet creates a new column `Site` in the DataFrame `df` and displays the first few rows to show the changes. The `Site` column will contain the part of the `FILE_ID` before the first underscore."
   ]
  },
  {
   "cell_type": "code",
   "execution_count": 12,
   "metadata": {},
   "outputs": [
    {
     "data": {
      "image/png": "[encoded data removed]",
      "text/plain": [
       "<Figure size 432x288 with 1 Axes>"
      ]
     },
     "metadata": {
      "needs_background": "light"
     },
     "output_type": "display_data"
    }
   ],
   "source": [
    "# Creating a boxplot using Seaborn\n",
    "sns_boxplot = sns.boxplot(x='Site', y='AGE_AT_SCAN', data=df)\n",
    "\n",
    "# Setting custom x-axis tick labels using unique values from 'Site' column\n",
    "# Rotating the labels for better readability\n",
    "sns_boxplot.set_xticklabels(labels=df.Site.unique(), rotation=50)\n",
    "\n",
    "# Adding grid lines to the plot\n",
    "sns_boxplot.grid()"
   ]
  },
  {
   "cell_type": "code",
   "execution_count": 15,
   "metadata": {},
   "outputs": [
    {
     "data": {
      "image/png": "[encoded data removed]",
      "text/plain": [
       "<Figure size 432x288 with 1 Axes>"
      ]
     },
     "metadata": {
      "needs_background": "light"
     },
     "output_type": "display_data"
    }
   ],
   "source": [
    "# Sampling 100 random rows with replacement from the DataFrame\n",
    "sample_data = df.sample(100, replace=True)\n",
    "\n",
    "# Creating a boxplot using Seaborn with the sampled data\n",
    "sns_boxplot = sns.boxplot(x='Site', y='AGE_AT_SCAN', data=sample_data)\n",
    "\n",
    "# Setting custom x-axis tick labels using unique values from 'Site' column\n",
    "# Rotating the labels for better readability\n",
    "sns_boxplot.set_xticklabels(labels=sample_data.Site.unique(), rotation=50)\n",
    "\n",
    "# Adding grid lines to the plot\n",
    "sns_boxplot.grid()"
   ]
  },
  {
   "cell_type": "code",
   "execution_count": 19,
   "metadata": {},
   "outputs": [
    {
     "data": {
      "text/plain": [
       "<AxesSubplot:title={'center':'Number of subjects per site'}, xlabel='Site'>"
      ]
     },
     "execution_count": 19,
     "metadata": {},
     "output_type": "execute_result"
    },
    {
     "data": {
      "image/png": "[encoded data removed]",
      "text/plain": [
       "<Figure size 432x288 with 1 Axes>"
      ]
     },
     "metadata": {
      "needs_background": "light"
     },
     "output_type": "display_data"
    }
   ],
   "source": [
    "# Grouping the sampled data by 'Site' and counting the number of subjects per site\n",
    "site_counts_sample = sample_data.groupby('Site')['FILE_ID'].count()\n",
    "\n",
    "# Creating a bar plot to visualize the number of subjects per site\n",
    "site_counts_sample.plot(kind='bar', title='Number of subjects per site')"
   ]
  }
 ],
 "metadata": {
  "colab": {
   "authorship_tag": "ABX9TyNXPxJx8cV6pSK2wUcrlPWX",
   "provenance": [],
   "toc_visible": true
  },
  "kernelspec": {
   "display_name": "Python 3 (ipykernel)",
   "language": "python",
   "name": "python3"
  },
  "language_info": {
   "codemirror_mode": {
    "name": "ipython",
    "version": 3
   },
   "file_extension": ".py",
   "mimetype": "text/x-python",
   "name": "python",
   "nbconvert_exporter": "python",
   "pygments_lexer": "ipython3",
   "version": "3.10.12"
  }
 },
 "nbformat": 4,
 "nbformat_minor": 4
}
